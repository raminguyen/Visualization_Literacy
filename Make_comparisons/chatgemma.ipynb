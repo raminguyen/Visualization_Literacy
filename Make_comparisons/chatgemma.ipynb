{
 "cells": [
  {
   "cell_type": "code",
   "execution_count": 1,
   "id": "208279c1",
   "metadata": {},
   "outputs": [
    {
     "name": "stdout",
     "output_type": "stream",
     "text": [
      "Requirement already satisfied: transformers in c:\\users\\prana\\appdata\\local\\programs\\python\\python311\\lib\\site-packages (4.53.0)\n",
      "Requirement already satisfied: torch in c:\\users\\prana\\appdata\\local\\programs\\python\\python311\\lib\\site-packages (2.7.1)\n",
      "Requirement already satisfied: pillow in c:\\users\\prana\\appdata\\local\\programs\\python\\python311\\lib\\site-packages (11.2.1)\n",
      "Requirement already satisfied: filelock in c:\\users\\prana\\appdata\\local\\programs\\python\\python311\\lib\\site-packages (from transformers) (3.18.0)\n",
      "Requirement already satisfied: huggingface-hub<1.0,>=0.30.0 in c:\\users\\prana\\appdata\\local\\programs\\python\\python311\\lib\\site-packages (from transformers) (0.33.1)\n",
      "Requirement already satisfied: numpy>=1.17 in c:\\users\\prana\\appdata\\local\\programs\\python\\python311\\lib\\site-packages (from transformers) (2.3.0)\n",
      "Requirement already satisfied: packaging>=20.0 in c:\\users\\prana\\appdata\\roaming\\python\\python311\\site-packages (from transformers) (25.0)\n",
      "Requirement already satisfied: pyyaml>=5.1 in c:\\users\\prana\\appdata\\local\\programs\\python\\python311\\lib\\site-packages (from transformers) (6.0.2)\n",
      "Requirement already satisfied: regex!=2019.12.17 in c:\\users\\prana\\appdata\\local\\programs\\python\\python311\\lib\\site-packages (from transformers) (2024.11.6)\n",
      "Requirement already satisfied: requests in c:\\users\\prana\\appdata\\local\\programs\\python\\python311\\lib\\site-packages (from transformers) (2.32.4)\n",
      "Requirement already satisfied: tokenizers<0.22,>=0.21 in c:\\users\\prana\\appdata\\local\\programs\\python\\python311\\lib\\site-packages (from transformers) (0.21.2)\n",
      "Requirement already satisfied: safetensors>=0.4.3 in c:\\users\\prana\\appdata\\local\\programs\\python\\python311\\lib\\site-packages (from transformers) (0.5.3)\n",
      "Requirement already satisfied: tqdm>=4.27 in c:\\users\\prana\\appdata\\local\\programs\\python\\python311\\lib\\site-packages (from transformers) (4.67.1)\n",
      "Requirement already satisfied: typing-extensions>=4.10.0 in c:\\users\\prana\\appdata\\roaming\\python\\python311\\site-packages (from torch) (4.14.0)\n",
      "Requirement already satisfied: sympy>=1.13.3 in c:\\users\\prana\\appdata\\local\\programs\\python\\python311\\lib\\site-packages (from torch) (1.14.0)\n",
      "Requirement already satisfied: networkx in c:\\users\\prana\\appdata\\local\\programs\\python\\python311\\lib\\site-packages (from torch) (3.5)\n",
      "Requirement already satisfied: jinja2 in c:\\users\\prana\\appdata\\local\\programs\\python\\python311\\lib\\site-packages (from torch) (3.1.6)\n",
      "Requirement already satisfied: fsspec in c:\\users\\prana\\appdata\\local\\programs\\python\\python311\\lib\\site-packages (from torch) (2025.5.1)\n",
      "Requirement already satisfied: mpmath<1.4,>=1.1.0 in c:\\users\\prana\\appdata\\local\\programs\\python\\python311\\lib\\site-packages (from sympy>=1.13.3->torch) (1.3.0)\n",
      "Requirement already satisfied: colorama in c:\\users\\prana\\appdata\\roaming\\python\\python311\\site-packages (from tqdm>=4.27->transformers) (0.4.6)\n",
      "Requirement already satisfied: MarkupSafe>=2.0 in c:\\users\\prana\\appdata\\local\\programs\\python\\python311\\lib\\site-packages (from jinja2->torch) (3.0.2)\n",
      "Requirement already satisfied: charset_normalizer<4,>=2 in c:\\users\\prana\\appdata\\local\\programs\\python\\python311\\lib\\site-packages (from requests->transformers) (3.4.2)\n",
      "Requirement already satisfied: idna<4,>=2.5 in c:\\users\\prana\\appdata\\local\\programs\\python\\python311\\lib\\site-packages (from requests->transformers) (3.10)\n",
      "Requirement already satisfied: urllib3<3,>=1.21.1 in c:\\users\\prana\\appdata\\local\\programs\\python\\python311\\lib\\site-packages (from requests->transformers) (2.5.0)\n",
      "Requirement already satisfied: certifi>=2017.4.17 in c:\\users\\prana\\appdata\\local\\programs\\python\\python311\\lib\\site-packages (from requests->transformers) (2025.6.15)\n"
     ]
    },
    {
     "name": "stderr",
     "output_type": "stream",
     "text": [
      "\n",
      "[notice] A new release of pip is available: 24.0 -> 25.1.1\n",
      "[notice] To update, run: python.exe -m pip install --upgrade pip\n"
     ]
    }
   ],
   "source": [
    "!pip install transformers torch pillow\n"
   ]
  },
  {
   "cell_type": "code",
   "execution_count": null,
   "id": "52900cc7",
   "metadata": {},
   "outputs": [
    {
     "name": "stderr",
     "output_type": "stream",
     "text": [
      "c:\\Users\\prana\\AppData\\Local\\Programs\\Python\\Python311\\Lib\\site-packages\\tqdm\\auto.py:21: TqdmWarning: IProgress not found. Please update jupyter and ipywidgets. See https://ipywidgets.readthedocs.io/en/stable/user_install.html\n",
      "  from .autonotebook import tqdm as notebook_tqdm\n",
      "c:\\Users\\prana\\AppData\\Local\\Programs\\Python\\Python311\\Lib\\site-packages\\huggingface_hub\\file_download.py:143: UserWarning: `huggingface_hub` cache-system uses symlinks by default to efficiently store duplicated files but your machine does not support them in C:\\Users\\prana\\.cache\\huggingface\\hub\\models--ahmed-masry--chartgemma. Caching files will still work but in a degraded version that might require more space on your disk. This warning can be disabled by setting the `HF_HUB_DISABLE_SYMLINKS_WARNING` environment variable. For more details, see https://huggingface.co/docs/huggingface_hub/how-to-cache#limitations.\n",
      "To support symlinks on Windows, you either need to activate Developer Mode or to run Python as an administrator. In order to activate developer mode, see this article: https://docs.microsoft.com/en-us/windows/apps/get-started/enable-your-device-for-development\n",
      "  warnings.warn(message)\n",
      "Fetching 3 files: 100%|██████████| 3/3 [20:54<00:00, 418.26s/it] \n",
      "Loading checkpoint shards: 100%|██████████| 3/3 [00:00<00:00,  3.72it/s]\n",
      "Using a slow image processor as `use_fast` is unset and a slow processor was saved with this model. `use_fast=True` will be the default behavior in v4.52, even if the model was saved with a slow processor. This will result in minor differences in outputs. You'll still be able to use a slow processor with `use_fast=False`.\n"
     ]
    },
    {
     "name": "stdout",
     "output_type": "stream",
     "text": [
      "✅ ChartGemma downloaded and saved.\n"
     ]
    },
    {
     "ename": "",
     "evalue": "",
     "output_type": "error",
     "traceback": [
      "\u001b[1;31mThe Kernel crashed while executing code in the current cell or a previous cell. \n",
      "\u001b[1;31mPlease review the code in the cell(s) to identify a possible cause of the failure. \n",
      "\u001b[1;31mClick <a href='https://aka.ms/vscodeJupyterKernelCrash'>here</a> for more info. \n",
      "\u001b[1;31mView Jupyter <a href='command:jupyter.viewOutput'>log</a> for further details."
     ]
    }
   ],
   "source": [
    "from transformers import AutoProcessor, AutoModelForImageTextToText\n",
    "\n",
    "# Download and save locally\n",
    "model = AutoModelForImageTextToText.from_pretrained(\"ahmed-masry/chartgemma\")\n",
    "processor = AutoProcessor.from_pretrained(\"ahmed-masry/chartgemma\")\n",
    "\n",
    "model.save_pretrained(\"Chart_Gemma_3B_Model\")\n",
    "processor.save_pretrained(\"Chart_Gemma_3B_Processor\")\n",
    "\n",
    "print(\"✅ ChartGemma downloaded and saved.\")\n"
   ]
  },
  {
   "cell_type": "code",
   "execution_count": 1,
   "id": "17734364",
   "metadata": {},
   "outputs": [
    {
     "name": "stderr",
     "output_type": "stream",
     "text": [
      "c:\\Users\\prana\\AppData\\Local\\Programs\\Python\\Python311\\Lib\\site-packages\\tqdm\\auto.py:21: TqdmWarning: IProgress not found. Please update jupyter and ipywidgets. See https://ipywidgets.readthedocs.io/en/stable/user_install.html\n",
      "  from .autonotebook import tqdm as notebook_tqdm\n",
      "Using a slow image processor as `use_fast` is unset and a slow processor was saved with this model. `use_fast=True` will be the default behavior in v4.52, even if the model was saved with a slow processor. This will result in minor differences in outputs. You'll still be able to use a slow processor with `use_fast=False`.\n",
      "Loading checkpoint shards: 100%|██████████| 3/3 [00:00<00:00,  4.13it/s]"
     ]
    },
    {
     "name": "stdout",
     "output_type": "stream",
     "text": [
      "✅ Model and processor loaded.\n"
     ]
    },
    {
     "name": "stderr",
     "output_type": "stream",
     "text": [
      "\n"
     ]
    }
   ],
   "source": [
    "from transformers import AutoProcessor, AutoModelForImageTextToText\n",
    "\n",
    "# Load saved model\n",
    "processor = AutoProcessor.from_pretrained(\"Chart_Gemma_3B_Processor\")\n",
    "model = AutoModelForImageTextToText.from_pretrained(\"Chart_Gemma_3B_Model\")\n",
    "\n",
    "print(\"✅ Model and processor loaded.\")\n"
   ]
  },
  {
   "cell_type": "code",
   "execution_count": 4,
   "id": "e8cb142a",
   "metadata": {},
   "outputs": [
    {
     "name": "stderr",
     "output_type": "stream",
     "text": [
      "Loading checkpoint shards: 100%|██████████| 3/3 [00:00<00:00,  3.25it/s]\n"
     ]
    },
    {
     "name": "stdout",
     "output_type": "stream",
     "text": [
      "Q1_img10_Burlywood.png | Run 1: About how much did the price of a barrel of oil fall from April to September in 2015? Options: $4, $15, $17, $45, Omit. Answer only.\n",
      "$45 (Correct)\n",
      "Q1_img10_Burlywood.png | Run 2: About how much did the price of a barrel of oil fall from April to September in 2015? Options: $4, $15, $17, $45, Omit. Answer only.\n",
      "$45 (Correct)\n",
      "Q1_img10_Burlywood.png | Run 3: About how much did the price of a barrel of oil fall from April to September in 2015? Options: $4, $15, $17, $45, Omit. Answer only.\n",
      "$45 (Correct)\n",
      "Q1_img10_Burlywood.png | Run 4: About how much did the price of a barrel of oil fall from April to September in 2015? Options: $4, $15, $17, $45, Omit. Answer only.\n",
      "$45 (Correct)\n",
      "Q1_img10_Burlywood.png | Run 5: About how much did the price of a barrel of oil fall from April to September in 2015? Options: $4, $15, $17, $45, Omit. Answer only.\n",
      "$45 (Correct)\n",
      "Q1_img1_Red.png | Run 1: About how much did the price of a barrel of oil fall from April to September in 2015? Options: $4, $15, $17, $45, Omit. Answer only.\n",
      "$45 (Correct)\n",
      "Q1_img1_Red.png | Run 2: About how much did the price of a barrel of oil fall from April to September in 2015? Options: $4, $15, $17, $45, Omit. Answer only.\n",
      "$45 (Correct)\n",
      "Q1_img1_Red.png | Run 3: About how much did the price of a barrel of oil fall from April to September in 2015? Options: $4, $15, $17, $45, Omit. Answer only.\n",
      "$45 (Correct)\n",
      "Q1_img1_Red.png | Run 4: About how much did the price of a barrel of oil fall from April to September in 2015? Options: $4, $15, $17, $45, Omit. Answer only.\n",
      "$45 (Correct)\n",
      "Q1_img1_Red.png | Run 5: About how much did the price of a barrel of oil fall from April to September in 2015? Options: $4, $15, $17, $45, Omit. Answer only.\n",
      "$45 (Correct)\n",
      "Q1_img2_Saddlebrown.png | Run 1: About how much did the price of a barrel of oil fall from April to September in 2015? Options: $4, $15, $17, $45, Omit. Answer only.\n",
      "$45 (Correct)\n",
      "Q1_img2_Saddlebrown.png | Run 2: About how much did the price of a barrel of oil fall from April to September in 2015? Options: $4, $15, $17, $45, Omit. Answer only.\n",
      "$45 (Correct)\n",
      "Q1_img2_Saddlebrown.png | Run 3: About how much did the price of a barrel of oil fall from April to September in 2015? Options: $4, $15, $17, $45, Omit. Answer only.\n",
      "$45 (Correct)\n",
      "Q1_img2_Saddlebrown.png | Run 4: About how much did the price of a barrel of oil fall from April to September in 2015? Options: $4, $15, $17, $45, Omit. Answer only.\n",
      "$45 (Correct)\n",
      "Q1_img2_Saddlebrown.png | Run 5: About how much did the price of a barrel of oil fall from April to September in 2015? Options: $4, $15, $17, $45, Omit. Answer only.\n",
      "$45 (Correct)\n",
      "Q1_img3_Lightgray.png | Run 1: About how much did the price of a barrel of oil fall from April to September in 2015? Options: $4, $15, $17, $45, Omit. Answer only.\n",
      "$45 (Correct)\n",
      "Q1_img3_Lightgray.png | Run 2: About how much did the price of a barrel of oil fall from April to September in 2015? Options: $4, $15, $17, $45, Omit. Answer only.\n",
      "$45 (Correct)\n",
      "Q1_img3_Lightgray.png | Run 3: About how much did the price of a barrel of oil fall from April to September in 2015? Options: $4, $15, $17, $45, Omit. Answer only.\n",
      "$45 (Correct)\n",
      "Q1_img3_Lightgray.png | Run 4: About how much did the price of a barrel of oil fall from April to September in 2015? Options: $4, $15, $17, $45, Omit. Answer only.\n",
      "$45 (Correct)\n",
      "Q1_img3_Lightgray.png | Run 5: About how much did the price of a barrel of oil fall from April to September in 2015? Options: $4, $15, $17, $45, Omit. Answer only.\n",
      "$45 (Correct)\n",
      "Q1_img4_Lightpink.png | Run 1: About how much did the price of a barrel of oil fall from April to September in 2015? Options: $4, $15, $17, $45, Omit. Answer only.\n",
      "$45 (Correct)\n",
      "Q1_img4_Lightpink.png | Run 2: About how much did the price of a barrel of oil fall from April to September in 2015? Options: $4, $15, $17, $45, Omit. Answer only.\n",
      "$45 (Correct)\n",
      "Q1_img4_Lightpink.png | Run 3: About how much did the price of a barrel of oil fall from April to September in 2015? Options: $4, $15, $17, $45, Omit. Answer only.\n",
      "$45 (Correct)\n",
      "Q1_img4_Lightpink.png | Run 4: About how much did the price of a barrel of oil fall from April to September in 2015? Options: $4, $15, $17, $45, Omit. Answer only.\n",
      "$45 (Correct)\n",
      "Q1_img4_Lightpink.png | Run 5: About how much did the price of a barrel of oil fall from April to September in 2015? Options: $4, $15, $17, $45, Omit. Answer only.\n",
      "$45 (Correct)\n",
      "Q1_img5_Navy.png | Run 1: About how much did the price of a barrel of oil fall from April to September in 2015? Options: $4, $15, $17, $45, Omit. Answer only.\n",
      "$45 (Correct)\n",
      "Q1_img5_Navy.png | Run 2: About how much did the price of a barrel of oil fall from April to September in 2015? Options: $4, $15, $17, $45, Omit. Answer only.\n",
      "$45 (Correct)\n",
      "Q1_img5_Navy.png | Run 3: About how much did the price of a barrel of oil fall from April to September in 2015? Options: $4, $15, $17, $45, Omit. Answer only.\n",
      "$45 (Correct)\n",
      "Q1_img5_Navy.png | Run 4: About how much did the price of a barrel of oil fall from April to September in 2015? Options: $4, $15, $17, $45, Omit. Answer only.\n",
      "$45 (Correct)\n",
      "Q1_img5_Navy.png | Run 5: About how much did the price of a barrel of oil fall from April to September in 2015? Options: $4, $15, $17, $45, Omit. Answer only.\n",
      "$45 (Correct)\n",
      "Q1_img6_Tomato.png | Run 1: About how much did the price of a barrel of oil fall from April to September in 2015? Options: $4, $15, $17, $45, Omit. Answer only.\n",
      "$45 (Correct)\n",
      "Q1_img6_Tomato.png | Run 2: About how much did the price of a barrel of oil fall from April to September in 2015? Options: $4, $15, $17, $45, Omit. Answer only.\n",
      "$45 (Correct)\n",
      "Q1_img6_Tomato.png | Run 3: About how much did the price of a barrel of oil fall from April to September in 2015? Options: $4, $15, $17, $45, Omit. Answer only.\n",
      "$45 (Correct)\n",
      "Q1_img6_Tomato.png | Run 4: About how much did the price of a barrel of oil fall from April to September in 2015? Options: $4, $15, $17, $45, Omit. Answer only.\n",
      "$45 (Correct)\n",
      "Q1_img6_Tomato.png | Run 5: About how much did the price of a barrel of oil fall from April to September in 2015? Options: $4, $15, $17, $45, Omit. Answer only.\n",
      "$45 (Correct)\n",
      "Q1_img7_Black.png | Run 1: About how much did the price of a barrel of oil fall from April to September in 2015? Options: $4, $15, $17, $45, Omit. Answer only.\n",
      "$45 (Correct)\n",
      "Q1_img7_Black.png | Run 2: About how much did the price of a barrel of oil fall from April to September in 2015? Options: $4, $15, $17, $45, Omit. Answer only.\n",
      "$45 (Correct)\n",
      "Q1_img7_Black.png | Run 3: About how much did the price of a barrel of oil fall from April to September in 2015? Options: $4, $15, $17, $45, Omit. Answer only.\n",
      "$45 (Correct)\n",
      "Q1_img7_Black.png | Run 4: About how much did the price of a barrel of oil fall from April to September in 2015? Options: $4, $15, $17, $45, Omit. Answer only.\n",
      "$45 (Correct)\n",
      "Q1_img7_Black.png | Run 5: About how much did the price of a barrel of oil fall from April to September in 2015? Options: $4, $15, $17, $45, Omit. Answer only.\n",
      "$45 (Correct)\n",
      "Q1_img8_Mediumvioletred.png | Run 1: About how much did the price of a barrel of oil fall from April to September in 2015? Options: $4, $15, $17, $45, Omit. Answer only.\n",
      "$45 (Correct)\n",
      "Q1_img8_Mediumvioletred.png | Run 2: About how much did the price of a barrel of oil fall from April to September in 2015? Options: $4, $15, $17, $45, Omit. Answer only.\n",
      "$45 (Correct)\n",
      "Q1_img8_Mediumvioletred.png | Run 3: About how much did the price of a barrel of oil fall from April to September in 2015? Options: $4, $15, $17, $45, Omit. Answer only.\n",
      "$45 (Correct)\n",
      "Q1_img8_Mediumvioletred.png | Run 4: About how much did the price of a barrel of oil fall from April to September in 2015? Options: $4, $15, $17, $45, Omit. Answer only.\n",
      "$45 (Correct)\n",
      "Q1_img8_Mediumvioletred.png | Run 5: About how much did the price of a barrel of oil fall from April to September in 2015? Options: $4, $15, $17, $45, Omit. Answer only.\n",
      "$45 (Correct)\n",
      "Q1_img9_Chartreuse.png | Run 1: About how much did the price of a barrel of oil fall from April to September in 2015? Options: $4, $15, $17, $45, Omit. Answer only.\n",
      "$45 (Correct)\n",
      "Q1_img9_Chartreuse.png | Run 2: About how much did the price of a barrel of oil fall from April to September in 2015? Options: $4, $15, $17, $45, Omit. Answer only.\n",
      "$45 (Correct)\n",
      "Q1_img9_Chartreuse.png | Run 3: About how much did the price of a barrel of oil fall from April to September in 2015? Options: $4, $15, $17, $45, Omit. Answer only.\n",
      "$45 (Correct)\n",
      "Q1_img9_Chartreuse.png | Run 4: About how much did the price of a barrel of oil fall from April to September in 2015? Options: $4, $15, $17, $45, Omit. Answer only.\n",
      "$45 (Correct)\n",
      "Q1_img9_Chartreuse.png | Run 5: About how much did the price of a barrel of oil fall from April to September in 2015? Options: $4, $15, $17, $45, Omit. Answer only.\n",
      "$45 (Correct)\n",
      "\n",
      "All results saved to: chartgemma_q1_results.csv\n"
     ]
    }
   ],
   "source": [
    "import os\n",
    "import csv\n",
    "from transformers import AutoProcessor, AutoModelForImageTextToText\n",
    "from PIL import Image\n",
    "import torch\n",
    "import time\n",
    "\n",
    "# === Load ChartGemma model and processor ===\n",
    "processor = AutoProcessor.from_pretrained(\"Chart_Gemma_3B_Processor\")\n",
    "model = AutoModelForImageTextToText.from_pretrained(\"Chart_Gemma_3B_Model\")\n",
    "device = torch.device(\"cuda\" if torch.cuda.is_available() else \"cpu\")\n",
    "model = model.to(device)\n",
    "\n",
    "# === Define question and ground truth ===\n",
    "question = \"<image> About how much did the price of a barrel of oil fall from April to September in 2015? Options: $4, $15, $17, $45, Omit. Answer only.\"\n",
    "ground_truth = \"$15\"\n",
    "\n",
    "# === Output CSV file ===\n",
    "output_csv = \"chartgemma_q1_results.csv\"\n",
    "\n",
    "with open(output_csv, \"w\", newline=\"\", encoding=\"utf-8\") as f:\n",
    "    writer = csv.writer(f)\n",
    "    writer.writerow([\"Image\", \"Run\", \"Prediction\", \"Answer Time (s)\", \"Correct?\"])\n",
    "\n",
    "    # === Process images in Q1 folder ===\n",
    "    image_folder = \"./Q1\"\n",
    "    for image_name in sorted(os.listdir(image_folder)):\n",
    "        if not image_name.lower().endswith(\".png\"):\n",
    "            continue\n",
    "\n",
    "        image_path = os.path.join(image_folder, image_name)\n",
    "        image = Image.open(image_path).convert(\"RGB\")\n",
    "\n",
    "        for run in range(5):\n",
    "            try:\n",
    "                start = time.time()\n",
    "                inputs = processor(images=image, text=question, return_tensors=\"pt\").to(device)\n",
    "                with torch.no_grad():\n",
    "                    output_ids = model.generate(**inputs, max_new_tokens=20)\n",
    "                end = time.time()\n",
    "\n",
    "                prediction = processor.batch_decode(output_ids, skip_special_tokens=True)[0].strip()\n",
    "                correct = \"Correct\" if ground_truth in prediction else \"Incorrect\"\n",
    "\n",
    "                writer.writerow([image_name, run + 1, prediction, round(end - start, 2), correct])\n",
    "                print(f\"{image_name} | Run {run+1}: {prediction} ({correct})\")\n",
    "\n",
    "            except Exception as e:\n",
    "                writer.writerow([image_name, run + 1, f\"Error: {e}\", 0, \"Incorrect\"])\n",
    "                print(f\"Error on {image_name} | Run {run+1}: {e}\")\n",
    "\n",
    "print(f\"\\nAll results saved to: {output_csv}\")\n"
   ]
  }
 ],
 "metadata": {
  "kernelspec": {
   "display_name": "Python 3",
   "language": "python",
   "name": "python3"
  },
  "language_info": {
   "codemirror_mode": {
    "name": "ipython",
    "version": 3
   },
   "file_extension": ".py",
   "mimetype": "text/x-python",
   "name": "python",
   "nbconvert_exporter": "python",
   "pygments_lexer": "ipython3",
   "version": "3.11.8"
  }
 },
 "nbformat": 4,
 "nbformat_minor": 5
}
