{
 "cells": [
  {
   "cell_type": "markdown",
   "id": "1328ca3e",
   "metadata": {},
   "source": [
    "### Step 0: Merge all csv files"
   ]
  },
  {
   "cell_type": "code",
   "execution_count": 6,
   "id": "552e7a62",
   "metadata": {},
   "outputs": [
    {
     "name": "stdout",
     "output_type": "stream",
     "text": [
      "✅ Merged CSV saved to: /Users/ramihuunguyen/Documents/PhD/Visualization_Literacy/rami/find_extremum/prediction/find_extreum_all_models.csv\n"
     ]
    }
   ],
   "source": [
    "import pandas as pd\n",
    "import os\n",
    "\n",
    "# Define the folder containing prediction CSVs\n",
    "folder_path = \"/Users/ramihuunguyen/Documents/PhD/Visualization_Literacy/rami/find_extremum/prediction\"\n",
    "\n",
    "# List of individual output files\n",
    "filenames = [\n",
    "    \"chartgemma_2_92b_find_extremum_output.csv\",\n",
    "    \"chatgpt_4o_find_extremum_output.csv\",\n",
    "    \"gemini_2_5_flash_find_extremum_output.csv\",\n",
    "    \"gemini_2_5_pro_find_extremum_output.csv\"\n",
    "]\n",
    "\n",
    "# Read and concatenate all CSVs into one DataFrame\n",
    "dfs = [pd.read_csv(os.path.join(folder_path, file)) for file in filenames]\n",
    "merged_df = pd.concat(dfs, ignore_index=True)\n",
    "\n",
    "# Save merged DataFrame to CSV\n",
    "output_csv = os.path.join(folder_path, \"find_extreum_all_models.csv\")\n",
    "merged_df.to_csv(output_csv, index=False)\n",
    "\n",
    "print(f\"✅ Merged CSV saved to: {output_csv}\")\n"
   ]
  },
  {
   "cell_type": "markdown",
   "id": "838288a1",
   "metadata": {},
   "source": [
    "## Step 1: Load dataset\n",
    "\n"
   ]
  },
  {
   "cell_type": "code",
   "execution_count": 7,
   "id": "961c97e9",
   "metadata": {},
   "outputs": [
    {
     "data": {
      "text/plain": [
       "200"
      ]
     },
     "execution_count": 7,
     "metadata": {},
     "output_type": "execute_result"
    }
   ],
   "source": [
    "import pandas as pd\n",
    "\n",
    "find_extremum_df = pd.read_csv(\"/Users/ramihuunguyen/Documents/PhD/Visualization_Literacy/rami/find_extremum/prediction/find_extreum_all_models.csv\")\n",
    "\n",
    "len(find_extremum_df)"
   ]
  },
  {
   "cell_type": "markdown",
   "id": "316623da",
   "metadata": {},
   "source": [
    "## 2: Check number of each individual of dataset"
   ]
  },
  {
   "cell_type": "code",
   "execution_count": 9,
   "id": "fa58d50c",
   "metadata": {},
   "outputs": [
    {
     "name": "stdout",
     "output_type": "stream",
     "text": [
      "✅ Total rows in chartgemma: 50\n",
      "✅ Total rows in chatgpt_4o: 50\n",
      "✅ Total rows in gemini_2_5_flash: 50\n",
      "✅ Total rows in gemini_2_5_pro: 50\n"
     ]
    }
   ],
   "source": [
    "chart_gemma_df = pd.read_csv(\"/Users/ramihuunguyen/Documents/PhD/Visualization_Literacy/rami/find_extremum/prediction/chartgemma_2_92b_find_extremum_output.csv\")\n",
    "chart_gpt_4o_df = pd.read_csv(\"/Users/ramihuunguyen/Documents/PhD/Visualization_Literacy/rami/find_extremum/prediction/chatgpt_4o_find_extremum_output.csv\")\n",
    "gemini_2_5_flash_df = pd.read_csv(\"/Users/ramihuunguyen/Documents/PhD/Visualization_Literacy/rami/find_extremum/prediction/gemini_2_5_flash_find_extremum_output.csv\")\n",
    "gemini_2_5_pro_df = pd.read_csv(\"/Users/ramihuunguyen/Documents/PhD/Visualization_Literacy/rami/find_extremum/prediction/gemini_2_5_pro_find_extremum_output.csv\")  \n",
    "\n",
    "print(\"✅ Total rows in chartgemma:\", len(chart_gemma_df))\n",
    "print(\"✅ Total rows in chatgpt_4o:\", len(chart_gpt_4o_df))\n",
    "print(\"✅ Total rows in gemini_2_5_flash:\", len(gemini_2_5_flash_df))\n",
    "print(\"✅ Total rows in gemini_2_5_pro:\", len(gemini_2_5_pro_df))\n"
   ]
  },
  {
   "cell_type": "markdown",
   "id": "eba2eb8e",
   "metadata": {},
   "source": [
    "## 3: Check unique value and clean models for each dataset"
   ]
  },
  {
   "cell_type": "markdown",
   "id": "63a28c2c",
   "metadata": {},
   "source": [
    "### 1: Chart Gemma"
   ]
  },
  {
   "cell_type": "code",
   "execution_count": 10,
   "id": "6b17f18a",
   "metadata": {},
   "outputs": [
    {
     "name": "stdout",
     "output_type": "stream",
     "text": [
      "✅ Cleaned ChartGemma Answers:\n",
      "['March' 'December']\n"
     ]
    }
   ],
   "source": [
    "chart_gemma_df['Prediction'].unique()\n",
    "\n",
    "import re\n",
    "\n",
    "# List of months\n",
    "months = [\n",
    "    \"January\", \"February\", \"March\", \"April\", \"May\", \"June\",\n",
    "    \"July\", \"August\", \"September\", \"October\", \"November\", \"December\"\n",
    "]\n",
    "\n",
    "# Regex pattern to match the month at the end of the string (optional period and newline)\n",
    "month_pattern = r\"({})\\.?$\".format(\"|\".join(months))\n",
    "\n",
    "# Function to extract the month at the end of a sentence\n",
    "def extract_month(text):\n",
    "    match = re.search(month_pattern, text.strip())\n",
    "    return match.group(1) if match else \"Unknown\"\n",
    "\n",
    "# Replace the Prediction column directly with the extracted answer\n",
    "chart_gemma_df['Prediction'] = chart_gemma_df['Prediction'].apply(extract_month)\n",
    "\n",
    "# Show unique cleaned answers\n",
    "print(\"✅ Cleaned ChartGemma Answers:\")\n",
    "\n",
    "print(chart_gemma_df['Prediction'].unique())\n"
   ]
  },
  {
   "cell_type": "markdown",
   "id": "e7143a78",
   "metadata": {},
   "source": [
    "### 2: ChatGPT, Gemini Datasets"
   ]
  },
  {
   "cell_type": "code",
   "execution_count": 11,
   "id": "7ec93ed0",
   "metadata": {},
   "outputs": [
    {
     "name": "stdout",
     "output_type": "stream",
     "text": [
      "✅ Unique values in chart_gpt_4o_df['Prediction']: ['December' 'March' 'December.']\n",
      "✅ Unique values in gemini_2_5_flash_df['Prediction']: ['December']\n",
      "✅ Unique values in gemini_2_5_pro_df['Prediction']: ['December']\n"
     ]
    }
   ],
   "source": [
    "print(\"✅ Unique values in chart_gpt_4o_df['Prediction']:\", chart_gpt_4o_df['Prediction'].unique())\n",
    "print(\"✅ Unique values in gemini_2_5_flash_df['Prediction']:\", gemini_2_5_flash_df['Prediction'].unique())\n",
    "print(\"✅ Unique values in gemini_2_5_pro_df['Prediction']:\", gemini_2_5_pro_df['Prediction'].unique())"
   ]
  },
  {
   "cell_type": "code",
   "execution_count": 12,
   "id": "d24a4ed3",
   "metadata": {},
   "outputs": [
    {
     "name": "stdout",
     "output_type": "stream",
     "text": [
      "✅ Cleaned Unique Predictions:\n",
      "['December' 'March']\n"
     ]
    }
   ],
   "source": [
    "# Remove trailing period and extra spaces\n",
    "chart_gpt_4o_df['Prediction'] = chart_gpt_4o_df['Prediction'].str.strip().str.rstrip('.')\n",
    "\n",
    "print(\"✅ Cleaned Unique Predictions:\")\n",
    "print(chart_gpt_4o_df['Prediction'].unique())\n"
   ]
  },
  {
   "cell_type": "markdown",
   "id": "7514944a",
   "metadata": {},
   "source": [
    "## 4: Merge dataset, and check total number of dataset"
   ]
  },
  {
   "cell_type": "code",
   "execution_count": 13,
   "id": "c18cb43a",
   "metadata": {},
   "outputs": [
    {
     "name": "stdout",
     "output_type": "stream",
     "text": [
      "Total rows in merged dataset: 200\n"
     ]
    }
   ],
   "source": [
    "merged_df = pd.concat([chart_gemma_df, chart_gpt_4o_df, gemini_2_5_flash_df, gemini_2_5_pro_df], ignore_index=True)\n",
    "\n",
    "merged_df.to_csv(\"/Users/ramihuunguyen/Documents/PhD/Visualization_Literacy/rami/find_extremum/prediction/find_extreum_all_models.csv\", index=False)\n",
    "\n",
    "print(\"Total rows in merged dataset:\", len(merged_df))"
   ]
  },
  {
   "cell_type": "code",
   "execution_count": 14,
   "id": "5402d9d2",
   "metadata": {},
   "outputs": [
    {
     "name": "stdout",
     "output_type": "stream",
     "text": [
      "<class 'pandas.core.frame.DataFrame'>\n",
      "RangeIndex: 200 entries, 0 to 199\n",
      "Data columns (total 11 columns):\n",
      " #   Column                Non-Null Count  Dtype  \n",
      "---  ------                --------------  -----  \n",
      " 0   Index                 200 non-null    object \n",
      " 1   Question Type         200 non-null    object \n",
      " 2   Question Description  200 non-null    object \n",
      " 3   Prompt                200 non-null    object \n",
      " 4   Model Name            200 non-null    object \n",
      " 5   Color                 200 non-null    object \n",
      " 6   Chart Title           200 non-null    object \n",
      " 7   Image Path            200 non-null    object \n",
      " 8   Ground Truth          200 non-null    object \n",
      " 9   Prediction            200 non-null    object \n",
      " 10  Answer Time           200 non-null    float64\n",
      "dtypes: float64(1), object(10)\n",
      "memory usage: 17.3+ KB\n"
     ]
    }
   ],
   "source": [
    "merged_df.info()"
   ]
  },
  {
   "cell_type": "markdown",
   "id": "dcfb1b26",
   "metadata": {},
   "source": [
    "## 5: Visualization"
   ]
  },
  {
   "cell_type": "code",
   "execution_count": null,
   "id": "0470efd4",
   "metadata": {},
   "outputs": [
    {
     "data": {
      "image/png": "[encoded data removed]",
      "text/plain": [
       "<Figure size 1600x600 with 2 Axes>"
      ]
     },
     "metadata": {},
     "output_type": "display_data"
    }
   ],
   "source": [
    "import matplotlib.pyplot as plt\n",
    "import matplotlib.image as mpimg\n",
    "import seaborn as sns\n",
    "from matplotlib.lines import Line2D\n",
    "\n",
    "# Clean Prediction column\n",
    "merged_df['Prediction'] = merged_df['Prediction'].str.strip().str.rstrip('.')\n",
    "merged_df['Prediction'] = merged_df['Prediction'].replace(\"December\", \"December (Ground Truth)\")\n",
    "\n",
    "# Calculate average answer time\n",
    "avg_time = merged_df['Answer Time'].mean()\n",
    "\n",
    "# Color palette\n",
    "palette_custom = {\n",
    "    'March': 'red',\n",
    "    'December (Ground Truth)': '#66c2a5'\n",
    "}\n",
    "\n",
    "# Load chart image\n",
    "image_path = \"/Users/ramihuunguyen/Documents/PhD/Visualization_Literacy/rami/find_extremum/find_extreum_images/find_extremum_line_Monthly_Oil_Price_History_in_2015_black.png\"\n",
    "img = mpimg.imread(image_path)\n",
    "\n",
    "# Create side-by-side layout\n",
    "fig, (ax1, ax2) = plt.subplots(1, 2, figsize=(16, 6), gridspec_kw={'width_ratios': [1, 1.3]})\n",
    "\n",
    "# --- Left: Chart image\n",
    "ax1.imshow(cropped_array)\n",
    "ax1.axis('off')\n",
    "ax1.set_title(\"Original Chart: Monthly Oil Price (2015)\", fontsize=12)\n",
    "\n",
    "pos1 = ax1.get_position()  # Get original position\n",
    "ax1.set_position([pos1.x0, pos1.y0 - 0.03, pos1.width, pos1.height])\n",
    "\n",
    "# Caption under the image\n",
    "caption = (\"The task is find extremum: refer to a minimum value.\\n\"\n",
    "           \"The question is: *In which month was the price of a barrel of oil the lowest in 2015?*\\n\"\n",
    "           \"Options: March, May, July, December, Omit. Ground truth: December.\")\n",
    "\n",
    "ax1.text(\n",
    "    0.0, -0.15, caption,\n",
    "    ha='left',\n",
    "    va='top',\n",
    "    fontsize=12,\n",
    "    transform=ax1.transAxes,\n",
    "    wrap=True\n",
    ")\n",
    "\n",
    "# --- Right: Seaborn chart\n",
    "sns.stripplot(\n",
    "    data=merged_df,\n",
    "    x='Model Name',\n",
    "    y='Answer Time',\n",
    "    hue='Prediction',\n",
    "    dodge=True,\n",
    "    jitter=True,\n",
    "    palette=palette_custom,\n",
    "    ax=ax2\n",
    ")\n",
    "\n",
    "ax2.set_title(\"Find the Extremum: Model Predictions vs. Answer Time\", fontsize=12)\n",
    "ax2.set_ylabel(\"Answer Time (seconds)\")\n",
    "ax2.set_xlabel(\"Model\")\n",
    "\n",
    "# Add average line and label\n",
    "ax2.axhline(y=avg_time, color='red', linestyle='--', linewidth=1.5)\n",
    "ax2.text(\n",
    "    x=len(merged_df['Model Name'].unique()) - 0.3,\n",
    "    y=avg_time - 0.3,\n",
    "    s=f\"average answer time = {avg_time:.2f}s\",\n",
    "    color='red',\n",
    "    fontsize=10,\n",
    "    ha='left',\n",
    "    va='bottom'\n",
    ")\n",
    "\n",
    "# Custom legend\n",
    "custom_legend = [\n",
    "    Line2D([0], [0], marker='o', color='w', label='March (Wrong Answer)', markerfacecolor='red', markersize=8),\n",
    "    Line2D([0], [0], marker='o', color='w', label='December (Ground Truth)', markerfacecolor='#66c2a5', markersize=8)\n",
    "]\n",
    "ax2.legend(handles=custom_legend, title='Prediction', bbox_to_anchor=(1.05, 1), loc='upper left')\n",
    "\n",
    "plt.tight_layout()\n",
    "plt.show()\n"
   ]
  },
  {
   "cell_type": "markdown",
   "id": "cfb0b6e4",
   "metadata": {},
   "source": [
    "## Filter and get only the rows where ChatGPT, and ChartGemma contains \"March\""
   ]
  },
  {
   "cell_type": "code",
   "execution_count": 19,
   "id": "6f39d0d1",
   "metadata": {},
   "outputs": [
    {
     "data": {
      "text/html": [
       "<div>\n",
       "<style scoped>\n",
       "    .dataframe tbody tr th:only-of-type {\n",
       "        vertical-align: middle;\n",
       "    }\n",
       "\n",
       "    .dataframe tbody tr th {\n",
       "        vertical-align: top;\n",
       "    }\n",
       "\n",
       "    .dataframe thead th {\n",
       "        text-align: right;\n",
       "    }\n",
       "</style>\n",
       "<table border=\"1\" class=\"dataframe\">\n",
       "  <thead>\n",
       "    <tr style=\"text-align: right;\">\n",
       "      <th></th>\n",
       "      <th>Index</th>\n",
       "      <th>Question Type</th>\n",
       "      <th>Question Description</th>\n",
       "      <th>Prompt</th>\n",
       "      <th>Model Name</th>\n",
       "      <th>Color</th>\n",
       "      <th>Chart Title</th>\n",
       "      <th>Image Path</th>\n",
       "      <th>Ground Truth</th>\n",
       "      <th>Prediction</th>\n",
       "      <th>Answer Time</th>\n",
       "    </tr>\n",
       "  </thead>\n",
       "  <tbody>\n",
       "    <tr>\n",
       "      <th>18</th>\n",
       "      <td>img4_run4</td>\n",
       "      <td>Find Extremum</td>\n",
       "      <td>In which month was the price of a barrel of oi...</td>\n",
       "      <td>In which month was the price of a barrel of oi...</td>\n",
       "      <td>chatgpt_4o</td>\n",
       "      <td>lightgray</td>\n",
       "      <td>line_data.csv</td>\n",
       "      <td>/Users/ramihuunguyen/Documents/PhD/Visualizati...</td>\n",
       "      <td>December</td>\n",
       "      <td>March</td>\n",
       "      <td>1.35</td>\n",
       "    </tr>\n",
       "  </tbody>\n",
       "</table>\n",
       "</div>"
      ],
      "text/plain": [
       "        Index  Question Type  \\\n",
       "18  img4_run4  Find Extremum   \n",
       "\n",
       "                                 Question Description  \\\n",
       "18  In which month was the price of a barrel of oi...   \n",
       "\n",
       "                                               Prompt  Model Name      Color  \\\n",
       "18  In which month was the price of a barrel of oi...  chatgpt_4o  lightgray   \n",
       "\n",
       "      Chart Title                                         Image Path  \\\n",
       "18  line_data.csv  /Users/ramihuunguyen/Documents/PhD/Visualizati...   \n",
       "\n",
       "   Ground Truth Prediction  Answer Time  \n",
       "18     December      March         1.35  "
      ]
     },
     "execution_count": 19,
     "metadata": {},
     "output_type": "execute_result"
    }
   ],
   "source": [
    "march_rows_chatgpt = chart_gpt_4o_df[chart_gpt_4o_df['Prediction'].str.strip() == 'March']\n",
    "\n",
    "march_rows_chatgpt\n",
    "\n"
   ]
  },
  {
   "cell_type": "code",
   "execution_count": 20,
   "id": "82cb98ef",
   "metadata": {},
   "outputs": [
    {
     "data": {
      "text/html": [
       "<div>\n",
       "<style scoped>\n",
       "    .dataframe tbody tr th:only-of-type {\n",
       "        vertical-align: middle;\n",
       "    }\n",
       "\n",
       "    .dataframe tbody tr th {\n",
       "        vertical-align: top;\n",
       "    }\n",
       "\n",
       "    .dataframe thead th {\n",
       "        text-align: right;\n",
       "    }\n",
       "</style>\n",
       "<table border=\"1\" class=\"dataframe\">\n",
       "  <thead>\n",
       "    <tr style=\"text-align: right;\">\n",
       "      <th></th>\n",
       "      <th>Index</th>\n",
       "      <th>Question Type</th>\n",
       "      <th>Question Description</th>\n",
       "      <th>Prompt</th>\n",
       "      <th>Model Name</th>\n",
       "      <th>Color</th>\n",
       "      <th>Chart Title</th>\n",
       "      <th>Image Path</th>\n",
       "      <th>Ground Truth</th>\n",
       "      <th>Prediction</th>\n",
       "      <th>Answer Time</th>\n",
       "    </tr>\n",
       "  </thead>\n",
       "  <tbody>\n",
       "    <tr>\n",
       "      <th>0</th>\n",
       "      <td>img1_run1</td>\n",
       "      <td>Find Extremum</td>\n",
       "      <td>In which month was the price of a barrel of oi...</td>\n",
       "      <td>In which month was the price of a barrel of oi...</td>\n",
       "      <td>ChartGemma-2.92B</td>\n",
       "      <td>black</td>\n",
       "      <td>line_data.csv</td>\n",
       "      <td>/Users/ramihuunguyen/Documents/PhD/Visualizati...</td>\n",
       "      <td>December</td>\n",
       "      <td>March</td>\n",
       "      <td>2.62</td>\n",
       "    </tr>\n",
       "    <tr>\n",
       "      <th>1</th>\n",
       "      <td>img1_run2</td>\n",
       "      <td>Find Extremum</td>\n",
       "      <td>In which month was the price of a barrel of oi...</td>\n",
       "      <td>In which month was the price of a barrel of oi...</td>\n",
       "      <td>ChartGemma-2.92B</td>\n",
       "      <td>black</td>\n",
       "      <td>line_data.csv</td>\n",
       "      <td>/Users/ramihuunguyen/Documents/PhD/Visualizati...</td>\n",
       "      <td>December</td>\n",
       "      <td>March</td>\n",
       "      <td>2.62</td>\n",
       "    </tr>\n",
       "    <tr>\n",
       "      <th>2</th>\n",
       "      <td>img1_run3</td>\n",
       "      <td>Find Extremum</td>\n",
       "      <td>In which month was the price of a barrel of oi...</td>\n",
       "      <td>In which month was the price of a barrel of oi...</td>\n",
       "      <td>ChartGemma-2.92B</td>\n",
       "      <td>black</td>\n",
       "      <td>line_data.csv</td>\n",
       "      <td>/Users/ramihuunguyen/Documents/PhD/Visualizati...</td>\n",
       "      <td>December</td>\n",
       "      <td>March</td>\n",
       "      <td>2.64</td>\n",
       "    </tr>\n",
       "    <tr>\n",
       "      <th>3</th>\n",
       "      <td>img1_run4</td>\n",
       "      <td>Find Extremum</td>\n",
       "      <td>In which month was the price of a barrel of oi...</td>\n",
       "      <td>In which month was the price of a barrel of oi...</td>\n",
       "      <td>ChartGemma-2.92B</td>\n",
       "      <td>black</td>\n",
       "      <td>line_data.csv</td>\n",
       "      <td>/Users/ramihuunguyen/Documents/PhD/Visualizati...</td>\n",
       "      <td>December</td>\n",
       "      <td>March</td>\n",
       "      <td>2.61</td>\n",
       "    </tr>\n",
       "    <tr>\n",
       "      <th>4</th>\n",
       "      <td>img1_run5</td>\n",
       "      <td>Find Extremum</td>\n",
       "      <td>In which month was the price of a barrel of oi...</td>\n",
       "      <td>In which month was the price of a barrel of oi...</td>\n",
       "      <td>ChartGemma-2.92B</td>\n",
       "      <td>black</td>\n",
       "      <td>line_data.csv</td>\n",
       "      <td>/Users/ramihuunguyen/Documents/PhD/Visualizati...</td>\n",
       "      <td>December</td>\n",
       "      <td>March</td>\n",
       "      <td>2.53</td>\n",
       "    </tr>\n",
       "    <tr>\n",
       "      <th>15</th>\n",
       "      <td>img4_run1</td>\n",
       "      <td>Find Extremum</td>\n",
       "      <td>In which month was the price of a barrel of oi...</td>\n",
       "      <td>In which month was the price of a barrel of oi...</td>\n",
       "      <td>ChartGemma-2.92B</td>\n",
       "      <td>lightgray</td>\n",
       "      <td>line_data.csv</td>\n",
       "      <td>/Users/ramihuunguyen/Documents/PhD/Visualizati...</td>\n",
       "      <td>December</td>\n",
       "      <td>March</td>\n",
       "      <td>2.55</td>\n",
       "    </tr>\n",
       "    <tr>\n",
       "      <th>16</th>\n",
       "      <td>img4_run2</td>\n",
       "      <td>Find Extremum</td>\n",
       "      <td>In which month was the price of a barrel of oi...</td>\n",
       "      <td>In which month was the price of a barrel of oi...</td>\n",
       "      <td>ChartGemma-2.92B</td>\n",
       "      <td>lightgray</td>\n",
       "      <td>line_data.csv</td>\n",
       "      <td>/Users/ramihuunguyen/Documents/PhD/Visualizati...</td>\n",
       "      <td>December</td>\n",
       "      <td>March</td>\n",
       "      <td>2.54</td>\n",
       "    </tr>\n",
       "    <tr>\n",
       "      <th>17</th>\n",
       "      <td>img4_run3</td>\n",
       "      <td>Find Extremum</td>\n",
       "      <td>In which month was the price of a barrel of oi...</td>\n",
       "      <td>In which month was the price of a barrel of oi...</td>\n",
       "      <td>ChartGemma-2.92B</td>\n",
       "      <td>lightgray</td>\n",
       "      <td>line_data.csv</td>\n",
       "      <td>/Users/ramihuunguyen/Documents/PhD/Visualizati...</td>\n",
       "      <td>December</td>\n",
       "      <td>March</td>\n",
       "      <td>2.56</td>\n",
       "    </tr>\n",
       "    <tr>\n",
       "      <th>18</th>\n",
       "      <td>img4_run4</td>\n",
       "      <td>Find Extremum</td>\n",
       "      <td>In which month was the price of a barrel of oi...</td>\n",
       "      <td>In which month was the price of a barrel of oi...</td>\n",
       "      <td>ChartGemma-2.92B</td>\n",
       "      <td>lightgray</td>\n",
       "      <td>line_data.csv</td>\n",
       "      <td>/Users/ramihuunguyen/Documents/PhD/Visualizati...</td>\n",
       "      <td>December</td>\n",
       "      <td>March</td>\n",
       "      <td>2.55</td>\n",
       "    </tr>\n",
       "    <tr>\n",
       "      <th>19</th>\n",
       "      <td>img4_run5</td>\n",
       "      <td>Find Extremum</td>\n",
       "      <td>In which month was the price of a barrel of oi...</td>\n",
       "      <td>In which month was the price of a barrel of oi...</td>\n",
       "      <td>ChartGemma-2.92B</td>\n",
       "      <td>lightgray</td>\n",
       "      <td>line_data.csv</td>\n",
       "      <td>/Users/ramihuunguyen/Documents/PhD/Visualizati...</td>\n",
       "      <td>December</td>\n",
       "      <td>March</td>\n",
       "      <td>2.55</td>\n",
       "    </tr>\n",
       "  </tbody>\n",
       "</table>\n",
       "</div>"
      ],
      "text/plain": [
       "        Index  Question Type  \\\n",
       "0   img1_run1  Find Extremum   \n",
       "1   img1_run2  Find Extremum   \n",
       "2   img1_run3  Find Extremum   \n",
       "3   img1_run4  Find Extremum   \n",
       "4   img1_run5  Find Extremum   \n",
       "15  img4_run1  Find Extremum   \n",
       "16  img4_run2  Find Extremum   \n",
       "17  img4_run3  Find Extremum   \n",
       "18  img4_run4  Find Extremum   \n",
       "19  img4_run5  Find Extremum   \n",
       "\n",
       "                                 Question Description  \\\n",
       "0   In which month was the price of a barrel of oi...   \n",
       "1   In which month was the price of a barrel of oi...   \n",
       "2   In which month was the price of a barrel of oi...   \n",
       "3   In which month was the price of a barrel of oi...   \n",
       "4   In which month was the price of a barrel of oi...   \n",
       "15  In which month was the price of a barrel of oi...   \n",
       "16  In which month was the price of a barrel of oi...   \n",
       "17  In which month was the price of a barrel of oi...   \n",
       "18  In which month was the price of a barrel of oi...   \n",
       "19  In which month was the price of a barrel of oi...   \n",
       "\n",
       "                                               Prompt        Model Name  \\\n",
       "0   In which month was the price of a barrel of oi...  ChartGemma-2.92B   \n",
       "1   In which month was the price of a barrel of oi...  ChartGemma-2.92B   \n",
       "2   In which month was the price of a barrel of oi...  ChartGemma-2.92B   \n",
       "3   In which month was the price of a barrel of oi...  ChartGemma-2.92B   \n",
       "4   In which month was the price of a barrel of oi...  ChartGemma-2.92B   \n",
       "15  In which month was the price of a barrel of oi...  ChartGemma-2.92B   \n",
       "16  In which month was the price of a barrel of oi...  ChartGemma-2.92B   \n",
       "17  In which month was the price of a barrel of oi...  ChartGemma-2.92B   \n",
       "18  In which month was the price of a barrel of oi...  ChartGemma-2.92B   \n",
       "19  In which month was the price of a barrel of oi...  ChartGemma-2.92B   \n",
       "\n",
       "        Color    Chart Title  \\\n",
       "0       black  line_data.csv   \n",
       "1       black  line_data.csv   \n",
       "2       black  line_data.csv   \n",
       "3       black  line_data.csv   \n",
       "4       black  line_data.csv   \n",
       "15  lightgray  line_data.csv   \n",
       "16  lightgray  line_data.csv   \n",
       "17  lightgray  line_data.csv   \n",
       "18  lightgray  line_data.csv   \n",
       "19  lightgray  line_data.csv   \n",
       "\n",
       "                                           Image Path Ground Truth Prediction  \\\n",
       "0   /Users/ramihuunguyen/Documents/PhD/Visualizati...     December      March   \n",
       "1   /Users/ramihuunguyen/Documents/PhD/Visualizati...     December      March   \n",
       "2   /Users/ramihuunguyen/Documents/PhD/Visualizati...     December      March   \n",
       "3   /Users/ramihuunguyen/Documents/PhD/Visualizati...     December      March   \n",
       "4   /Users/ramihuunguyen/Documents/PhD/Visualizati...     December      March   \n",
       "15  /Users/ramihuunguyen/Documents/PhD/Visualizati...     December      March   \n",
       "16  /Users/ramihuunguyen/Documents/PhD/Visualizati...     December      March   \n",
       "17  /Users/ramihuunguyen/Documents/PhD/Visualizati...     December      March   \n",
       "18  /Users/ramihuunguyen/Documents/PhD/Visualizati...     December      March   \n",
       "19  /Users/ramihuunguyen/Documents/PhD/Visualizati...     December      March   \n",
       "\n",
       "    Answer Time  \n",
       "0          2.62  \n",
       "1          2.62  \n",
       "2          2.64  \n",
       "3          2.61  \n",
       "4          2.53  \n",
       "15         2.55  \n",
       "16         2.54  \n",
       "17         2.56  \n",
       "18         2.55  \n",
       "19         2.55  "
      ]
     },
     "execution_count": 20,
     "metadata": {},
     "output_type": "execute_result"
    }
   ],
   "source": [
    "march_rows_chart_gemma = chart_gemma_df[chart_gemma_df['Prediction'].str.strip() == 'March']\n",
    "\n",
    "march_rows_chart_gemma\n"
   ]
  },
  {
   "cell_type": "code",
   "execution_count": 22,
   "id": "7e8a8265",
   "metadata": {},
   "outputs": [
    {
     "data": {
      "text/plain": [
       "10"
      ]
     },
     "execution_count": 22,
     "metadata": {},
     "output_type": "execute_result"
    }
   ],
   "source": [
    "len(march_rows_chart_gemma)"
   ]
  },
  {
   "cell_type": "markdown",
   "id": "40e419bb",
   "metadata": {},
   "source": []
  }
 ],
 "metadata": {
  "kernelspec": {
   "display_name": "visualization",
   "language": "python",
   "name": "python3"
  },
  "language_info": {
   "codemirror_mode": {
    "name": "ipython",
    "version": 3
   },
   "file_extension": ".py",
   "mimetype": "text/x-python",
   "name": "python",
   "nbconvert_exporter": "python",
   "pygments_lexer": "ipython3",
   "version": "3.11.13"
  }
 },
 "nbformat": 4,
 "nbformat_minor": 5
}
