{
 "cells": [
  {
   "cell_type": "code",
   "execution_count": 1,
   "metadata": {},
   "outputs": [],
   "source": [
    "import pandas as pd"
   ]
  },
  {
   "cell_type": "code",
   "execution_count": 5,
   "metadata": {},
   "outputs": [],
   "source": [
    "#for cleaning of tuples\n",
    "import ast\n",
    "\n",
    "def extract_first_element(value):\n",
    "    if isinstance(value, str) and value.startswith(\"(\") and value.endswith(\")\"):\n",
    "        try:\n",
    "            value = ast.literal_eval(value)  # Convert string to tuple if possible\n",
    "        except (SyntaxError, ValueError):\n",
    "            pass  # If it fails, keep the original value\n",
    "    return value[0] if isinstance(value, tuple) else value"
   ]
  },
  {
   "cell_type": "code",
   "execution_count": 2,
   "metadata": {},
   "outputs": [],
   "source": [
    "#so we did hists separately for both \n",
    "dirty_gpt_test8 = pd.read_csv(\"resultingGPTMessedUpAxisPlotsDF.csv\")"
   ]
  },
  {
   "cell_type": "code",
   "execution_count": 3,
   "metadata": {},
   "outputs": [],
   "source": [
    "histograms_gpt_from_test8 = pd.read_csv(\"gpt_multi_answersFORHISTOGRAMS_file_11_to_20.csv\")"
   ]
  },
  {
   "cell_type": "code",
   "execution_count": 6,
   "metadata": {},
   "outputs": [
    {
     "name": "stderr",
     "output_type": "stream",
     "text": [
      "C:\\Users\\matheus\\AppData\\Local\\Temp\\ipykernel_124660\\1413045339.py:1: FutureWarning: DataFrame.applymap has been deprecated. Use DataFrame.map instead.\n",
      "  clean_histograms_gpt_from_test8 = histograms_gpt_from_test8.applymap(extract_first_element)\n"
     ]
    }
   ],
   "source": [
    "clean_histograms_gpt_from_test8 = histograms_gpt_from_test8.applymap(extract_first_element)"
   ]
  },
  {
   "cell_type": "code",
   "execution_count": 17,
   "metadata": {},
   "outputs": [
    {
     "data": {
      "text/plain": [
       "Index(['dataset', 'image', 'question', 'gpt_answer_1', 'gpt_answer_2',\n",
       "       'gpt_answer_3', 'gpt_answer_4', 'gpt_answer_5', 'gpt_answer_6',\n",
       "       'gpt_answer_7', 'gpt_answer_8', 'gpt_answer_9', 'gpt_answer_10',\n",
       "       'gpt_answer_11', 'gpt_answer_12', 'gpt_answer_13', 'gpt_answer_14',\n",
       "       'gpt_answer_15', 'gpt_answer_16', 'gpt_answer_17', 'gpt_answer_18',\n",
       "       'gpt_answer_19', 'gpt_answer_20'],\n",
       "      dtype='object')"
      ]
     },
     "execution_count": 17,
     "metadata": {},
     "output_type": "execute_result"
    }
   ],
   "source": [
    "clean_histograms_gpt_from_test8.columns"
   ]
  },
  {
   "cell_type": "code",
   "execution_count": 20,
   "metadata": {},
   "outputs": [],
   "source": [
    "clean_gpt_test8 = dirty_gpt_test8.drop(['Unnamed: 0.1', 'Unnamed: 0'], axis=1)"
   ]
  },
  {
   "cell_type": "code",
   "execution_count": 21,
   "metadata": {},
   "outputs": [
    {
     "data": {
      "text/plain": [
       "Index(['dataset', 'image', 'question', 'gpt_answer_1', 'gpt_answer_2',\n",
       "       'gpt_answer_3', 'gpt_answer_4', 'gpt_answer_5', 'gpt_answer_6',\n",
       "       'gpt_answer_7', 'gpt_answer_8', 'gpt_answer_9', 'gpt_answer_10',\n",
       "       'gpt_answer_11', 'gpt_answer_12', 'gpt_answer_13', 'gpt_answer_14',\n",
       "       'gpt_answer_15', 'gpt_answer_16', 'gpt_answer_17', 'gpt_answer_18',\n",
       "       'gpt_answer_19', 'gpt_answer_20'],\n",
       "      dtype='object')"
      ]
     },
     "execution_count": 21,
     "metadata": {},
     "output_type": "execute_result"
    }
   ],
   "source": [
    "clean_gpt_test8.columns"
   ]
  },
  {
   "cell_type": "code",
   "execution_count": 22,
   "metadata": {},
   "outputs": [],
   "source": [
    "#perfectplots\n",
    "gpt_test8 = pd.concat([clean_gpt_test8, clean_histograms_gpt_from_test8], ignore_index=True)\n",
    "gpt_test8.to_csv(\"finalRESULTSDATASETS/gpt_test8.csv\")"
   ]
  },
  {
   "cell_type": "markdown",
   "metadata": {},
   "source": [
    "now for the good axis ones"
   ]
  },
  {
   "cell_type": "code",
   "execution_count": 25,
   "metadata": {},
   "outputs": [],
   "source": [
    "#so we did hists separately for both \n",
    "dirty_gpt_perfectplots0 = pd.read_csv(\"resultingGPTPerfectPlotsDF.csv\")\n",
    "dirty_gpt_perfectplots =dirty_gpt_perfectplots0[dirty_gpt_perfectplots0['dataset'] != 'histogram_data.csv']"
   ]
  },
  {
   "cell_type": "code",
   "execution_count": 26,
   "metadata": {},
   "outputs": [],
   "source": [
    "#get the hists for perfect plots - but theres no need, resultingGPTPerfectPlots already has it, so ill remove them to add them there\n",
    "histograms_gpt_from_perfectplots = pd.read_csv(\"gpt_answers_for_histogram.csv\")"
   ]
  },
  {
   "cell_type": "markdown",
   "metadata": {},
   "source": [
    "generating the final 2 datasets from this side"
   ]
  },
  {
   "cell_type": "code",
   "execution_count": 27,
   "metadata": {},
   "outputs": [
    {
     "data": {
      "text/plain": [
       "Index(['Unnamed: 0.1', 'Unnamed: 0', 'dataset', 'image', 'question',\n",
       "       'gpt_answer_1', 'response_time_1', 'gpt_answer_2', 'response_time_2',\n",
       "       'gpt_answer_3', 'response_time_3', 'gpt_answer_4', 'response_time_4',\n",
       "       'gpt_answer_5', 'response_time_5', 'gpt_answer_6', 'response_time_6',\n",
       "       'gpt_answer_7', 'response_time_7', 'gpt_answer_8', 'response_time_8',\n",
       "       'gpt_answer_9', 'response_time_9', 'gpt_answer_10', 'response_time_10',\n",
       "       'gpt_answer_11', 'response_time_11', 'gpt_answer_12',\n",
       "       'response_time_12', 'gpt_answer_13', 'response_time_13',\n",
       "       'gpt_answer_14', 'response_time_14', 'gpt_answer_15',\n",
       "       'response_time_15', 'gpt_answer_16', 'response_time_16',\n",
       "       'gpt_answer_17', 'response_time_17', 'gpt_answer_18',\n",
       "       'response_time_18', 'gpt_answer_19', 'response_time_19',\n",
       "       'gpt_answer_20', 'response_time_20'],\n",
       "      dtype='object')"
      ]
     },
     "execution_count": 27,
     "metadata": {},
     "output_type": "execute_result"
    }
   ],
   "source": [
    "dirty_gpt_perfectplots.columns"
   ]
  },
  {
   "cell_type": "code",
   "execution_count": 28,
   "metadata": {},
   "outputs": [
    {
     "data": {
      "text/plain": [
       "Index(['Unnamed: 0', 'image', 'dataset', 'question', 'gpt_answer_1',\n",
       "       'response_time_1', 'gpt_answer_2', 'response_time_2', 'gpt_answer_3',\n",
       "       'response_time_3', 'gpt_answer_4', 'response_time_4', 'gpt_answer_5',\n",
       "       'response_time_5', 'gpt_answer_6', 'response_time_6', 'gpt_answer_7',\n",
       "       'response_time_7', 'gpt_answer_8', 'response_time_8', 'gpt_answer_9',\n",
       "       'response_time_9', 'gpt_answer_10', 'response_time_10', 'gpt_answer_11',\n",
       "       'response_time_11', 'gpt_answer_12', 'response_time_12',\n",
       "       'gpt_answer_13', 'response_time_13', 'gpt_answer_14',\n",
       "       'response_time_14', 'gpt_answer_15', 'response_time_15',\n",
       "       'gpt_answer_16', 'response_time_16', 'gpt_answer_17',\n",
       "       'response_time_17', 'gpt_answer_18', 'response_time_18',\n",
       "       'gpt_answer_19', 'response_time_19', 'gpt_answer_20',\n",
       "       'response_time_20'],\n",
       "      dtype='object')"
      ]
     },
     "execution_count": 28,
     "metadata": {},
     "output_type": "execute_result"
    }
   ],
   "source": [
    "histograms_gpt_from_perfectplots.columns"
   ]
  },
  {
   "cell_type": "code",
   "execution_count": 29,
   "metadata": {},
   "outputs": [],
   "source": [
    "#before merging the perfect plot gpts lets just remove the unnamed cols\n",
    "histograms_gpt_from_perfectplots = histograms_gpt_from_perfectplots.drop('Unnamed: 0', axis=1)\n",
    "dirty_gpt_perfectplots = dirty_gpt_perfectplots.drop('Unnamed: 0', axis=1)\n",
    "dirty_gpt_perfectplots = dirty_gpt_perfectplots.drop('Unnamed: 0.1', axis=1)"
   ]
  },
  {
   "cell_type": "code",
   "execution_count": 30,
   "metadata": {},
   "outputs": [],
   "source": [
    "#perfectplots\n",
    "gpt_perfect_plots = pd.concat([dirty_gpt_perfectplots, histograms_gpt_from_perfectplots], ignore_index=True)"
   ]
  },
  {
   "cell_type": "code",
   "execution_count": 31,
   "metadata": {},
   "outputs": [],
   "source": [
    "gpt_perfect_plots.to_csv(\"finalRESULTSDATASETS/gpt_perfect_plots.csv\")"
   ]
  }
 ],
 "metadata": {
  "kernelspec": {
   "display_name": "Python 3",
   "language": "python",
   "name": "python3"
  },
  "language_info": {
   "codemirror_mode": {
    "name": "ipython",
    "version": 3
   },
   "file_extension": ".py",
   "mimetype": "text/x-python",
   "name": "python",
   "nbconvert_exporter": "python",
   "pygments_lexer": "ipython3",
   "version": "3.11.5"
  }
 },
 "nbformat": 4,
 "nbformat_minor": 2
}
