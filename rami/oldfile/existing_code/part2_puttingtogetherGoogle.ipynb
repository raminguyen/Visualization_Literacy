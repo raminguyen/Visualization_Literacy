{
 "cells": [
  {
   "cell_type": "code",
   "execution_count": 2,
   "metadata": {},
   "outputs": [],
   "source": [
    "import pandas as pd"
   ]
  },
  {
   "cell_type": "code",
   "execution_count": 3,
   "metadata": {},
   "outputs": [],
   "source": [
    "#putting together google histograms of test8\n",
    "df1 = pd.read_csv(\"google_multi_answers_forHISTOGRAMS_4_to_12final.csv\")\n",
    "df2 = pd.read_csv(\"google_multi_answers_HISTOGRAMS12ANDUPtillIDK.csv\")\n",
    "df3 = pd.read_csv(\"google_multi_answers_HISTOGRAMS13ANDUPtillIDK.csv\")\n",
    "df4 = pd.read_csv(\"google_multi_answers_FORRESTOFHISTOGRAMSlastANDUP.csv\")\n"
   ]
  },
  {
   "cell_type": "code",
   "execution_count": 6,
   "metadata": {},
   "outputs": [],
   "source": [
    "#DF3 comes with two too many, removing last 2\n",
    "df3 = df3.drop(df3.index[-2:])"
   ]
  },
  {
   "cell_type": "code",
   "execution_count": 7,
   "metadata": {},
   "outputs": [],
   "source": [
    "df_combined = pd.concat([df1, df2, df3, df4], ignore_index=True)"
   ]
  },
  {
   "cell_type": "code",
   "execution_count": 8,
   "metadata": {},
   "outputs": [],
   "source": [
    "df_combined.to_csv(\"combinedGoogleFromHistTest8.csv\")"
   ]
  },
  {
   "cell_type": "code",
   "execution_count": 11,
   "metadata": {},
   "outputs": [],
   "source": [
    "google_histogram_test8 = pd.read_csv(\"combinedGoogleFromHistTest8.csv\")"
   ]
  },
  {
   "cell_type": "markdown",
   "metadata": {},
   "source": [
    "Now putting it all together: all google from test8, worsened label axes plots"
   ]
  },
  {
   "cell_type": "code",
   "execution_count": 5,
   "metadata": {},
   "outputs": [],
   "source": [
    "google_test8_without_histograms = pd.read_csv(\"resultingGoogleMessedUpAxisPlotsDF.csv\")"
   ]
  },
  {
   "cell_type": "markdown",
   "metadata": {},
   "source": [
    "Will use this function below to clean the values that came as a tuple"
   ]
  },
  {
   "cell_type": "code",
   "execution_count": 8,
   "metadata": {},
   "outputs": [],
   "source": [
    "import ast\n",
    "\n",
    "def extract_first_element(value):\n",
    "    if isinstance(value, str) and value.startswith(\"(\") and value.endswith(\")\"):\n",
    "        try:\n",
    "            value = ast.literal_eval(value)  # Convert string to tuple if possible\n",
    "        except (SyntaxError, ValueError):\n",
    "            pass  # If it fails, keep the original value\n",
    "    return value[0] if isinstance(value, tuple) else value"
   ]
  },
  {
   "cell_type": "code",
   "execution_count": 9,
   "metadata": {},
   "outputs": [
    {
     "name": "stderr",
     "output_type": "stream",
     "text": [
      "C:\\Users\\matheus\\AppData\\Local\\Temp\\ipykernel_126260\\1369512883.py:1: FutureWarning: DataFrame.applymap has been deprecated. Use DataFrame.map instead.\n",
      "  google_test8_without_histograms_cleaned_outta_tuples = google_test8_without_histograms.applymap(extract_first_element)\n"
     ]
    }
   ],
   "source": [
    "google_test8_without_histograms_cleaned_outta_tuples = google_test8_without_histograms.applymap(extract_first_element)"
   ]
  },
  {
   "cell_type": "code",
   "execution_count": 10,
   "metadata": {},
   "outputs": [],
   "source": [
    "google_test8_without_histograms_cleaned_outta_tuples.to_csv(\"checkmaterial.csv\")"
   ]
  },
  {
   "cell_type": "markdown",
   "metadata": {},
   "source": [
    "now we put the entire google responses for worsened axis together, these are all the google test8 and ill create a folder for it"
   ]
  },
  {
   "cell_type": "code",
   "execution_count": 13,
   "metadata": {},
   "outputs": [],
   "source": [
    "google_test8 = pd.concat([google_test8_without_histograms_cleaned_outta_tuples,google_histogram_test8 ], ignore_index=True)"
   ]
  },
  {
   "cell_type": "code",
   "execution_count": 14,
   "metadata": {},
   "outputs": [],
   "source": [
    "google_test8.to_csv(\"finalRESULTSDATASETS/google_test8.csv\")"
   ]
  },
  {
   "cell_type": "markdown",
   "metadata": {},
   "source": [
    "now google official ones, not test8 - those already had the histogram in them i believe"
   ]
  },
  {
   "cell_type": "code",
   "execution_count": 16,
   "metadata": {},
   "outputs": [
    {
     "name": "stderr",
     "output_type": "stream",
     "text": [
      "C:\\Users\\matheus\\AppData\\Local\\Temp\\ipykernel_126260\\1206968391.py:3: FutureWarning: DataFrame.applymap has been deprecated. Use DataFrame.map instead.\n",
      "  google_clean_perfect_plots = google_dirty_perfect_plots.applymap(extract_first_element)\n"
     ]
    }
   ],
   "source": [
    "google_dirty_perfect_plots = pd.read_csv(\"resultingGooglePerfectPlotsDF.csv\")\n",
    "\n",
    "google_clean_perfect_plots = google_dirty_perfect_plots.applymap(extract_first_element)"
   ]
  },
  {
   "cell_type": "code",
   "execution_count": 17,
   "metadata": {},
   "outputs": [],
   "source": [
    "google_clean_perfect_plots.to_csv(\"finalRESULTSDATASETS/google_correct_plots.csv\")"
   ]
  }
 ],
 "metadata": {
  "kernelspec": {
   "display_name": "Python 3",
   "language": "python",
   "name": "python3"
  },
  "language_info": {
   "codemirror_mode": {
    "name": "ipython",
    "version": 3
   },
   "file_extension": ".py",
   "mimetype": "text/x-python",
   "name": "python",
   "nbconvert_exporter": "python",
   "pygments_lexer": "ipython3",
   "version": "3.11.5"
  }
 },
 "nbformat": 4,
 "nbformat_minor": 2
}
