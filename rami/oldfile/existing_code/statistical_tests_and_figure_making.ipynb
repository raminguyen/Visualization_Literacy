{
 "cells": [
  {
   "cell_type": "code",
   "execution_count": 2,
   "metadata": {},
   "outputs": [],
   "source": [
    "import pandas as pd\n",
    "import numpy as np"
   ]
  },
  {
   "cell_type": "code",
   "execution_count": 3,
   "metadata": {},
   "outputs": [],
   "source": [
    "#open the dataset\n",
    "df = pd.read_csv(\"cleaner_results_inputed.csv\")"
   ]
  },
  {
   "cell_type": "code",
   "execution_count": 19,
   "metadata": {},
   "outputs": [
    {
     "data": {
      "text/plain": [
       "Index(['Unnamed: 0', 'question_type', 'question_lowered_nospace',\n",
       "       'openai_model', 'referential_title', 'dataset_100_stacked_bar_data.csv',\n",
       "       'dataset_area_data.csv', 'dataset_bar_data.csv',\n",
       "       'dataset_histogram_data.csv', 'dataset_line_data.csv',\n",
       "       'dataset_pie_data.csv', 'dataset_scatterplot_data.csv',\n",
       "       'dataset_stacked_area_data.csv', 'dataset_stacked_bar_data.csv',\n",
       "       'plot_type_bar', 'plot_type_hist', 'plot_type_line', 'plot_type_pie',\n",
       "       'plot_type_scatter', 'plot_type_stacked_bar',\n",
       "       'plot_type_stacked_bar_100', 'color_black', 'color_burlywood',\n",
       "       'color_chartreuse', 'color_lightgray', 'color_lightpink',\n",
       "       'color_mediumvioletred', 'color_navy', 'color_red', 'color_saddlebrown',\n",
       "       'color_tomato', 'correct_count', 'omit_count', 'google_model',\n",
       "       'dataset'],\n",
       "      dtype='object')"
      ]
     },
     "execution_count": 19,
     "metadata": {},
     "output_type": "execute_result"
    }
   ],
   "source": [
    "df.columns"
   ]
  },
  {
   "cell_type": "code",
   "execution_count": 4,
   "metadata": {},
   "outputs": [],
   "source": [
    "def subset_the_df(df,filtered_columns, columns_to_be_compacted, new_column ):\n",
    "    #filtered columns is always columns to be compacted+a measurment so we can just add the measurement\n",
    "    #filtered_columns = columns_to_be_compacted.append(filtered_column)\n",
    "    print(filtered_columns)\n",
    "    #filter the columns and create a new column via idxmax\n",
    "    intermediate_plot = df[filtered_columns]\n",
    "    intermediate_plot[new_column] = intermediate_plot[columns_to_be_compacted].idxmax(axis=1)\n",
    "\n",
    "    #drop all the columns we compacted, we dont need them anymore\n",
    "    final_plot =intermediate_plot.drop(columns_to_be_compacted, axis=1)\n",
    "    return final_plot"
   ]
  },
  {
   "cell_type": "markdown",
   "metadata": {},
   "source": [
    "highjacking to see which plot types do better in which questions"
   ]
  },
  {
   "cell_type": "code",
   "execution_count": 5,
   "metadata": {},
   "outputs": [
    {
     "name": "stdout",
     "output_type": "stream",
     "text": [
      "['question_type', 'omit_count', 'correct_count', 'plot_type_bar', 'plot_type_hist', 'plot_type_line', 'plot_type_pie', 'plot_type_scatter', 'plot_type_stacked_bar', 'plot_type_stacked_bar_100']\n"
     ]
    },
    {
     "name": "stderr",
     "output_type": "stream",
     "text": [
      "C:\\Users\\matheus\\AppData\\Local\\Temp\\ipykernel_78740\\343660625.py:7: SettingWithCopyWarning: \n",
      "A value is trying to be set on a copy of a slice from a DataFrame.\n",
      "Try using .loc[row_indexer,col_indexer] = value instead\n",
      "\n",
      "See the caveats in the documentation: https://pandas.pydata.org/pandas-docs/stable/user_guide/indexing.html#returning-a-view-versus-a-copy\n",
      "  intermediate_plot[new_column] = intermediate_plot[columns_to_be_compacted].idxmax(axis=1)\n"
     ]
    }
   ],
   "source": [
    "plot_type_And_question_type = subset_the_df(df, [\"question_type\", \"omit_count\", \"correct_count\",'plot_type_bar', 'plot_type_hist', 'plot_type_line', 'plot_type_pie',\n",
    "       'plot_type_scatter', 'plot_type_stacked_bar',\n",
    "       'plot_type_stacked_bar_100'], ['plot_type_bar', 'plot_type_hist', 'plot_type_line', 'plot_type_pie',\n",
    "       'plot_type_scatter', 'plot_type_stacked_bar',\n",
    "       'plot_type_stacked_bar_100'], \"plot_type\")"
   ]
  },
  {
   "cell_type": "code",
   "execution_count": 37,
   "metadata": {},
   "outputs": [
    {
     "data": {
      "text/html": [
       "<div>\n",
       "<style scoped>\n",
       "    .dataframe tbody tr th:only-of-type {\n",
       "        vertical-align: middle;\n",
       "    }\n",
       "\n",
       "    .dataframe tbody tr th {\n",
       "        vertical-align: top;\n",
       "    }\n",
       "\n",
       "    .dataframe thead th {\n",
       "        text-align: right;\n",
       "    }\n",
       "</style>\n",
       "<table border=\"1\" class=\"dataframe\">\n",
       "  <thead>\n",
       "    <tr style=\"text-align: right;\">\n",
       "      <th></th>\n",
       "      <th>question_type</th>\n",
       "      <th>omit_count</th>\n",
       "      <th>correct_count</th>\n",
       "      <th>plot_type</th>\n",
       "    </tr>\n",
       "  </thead>\n",
       "  <tbody>\n",
       "    <tr>\n",
       "      <th>0</th>\n",
       "      <td>Retrieve Value</td>\n",
       "      <td>20</td>\n",
       "      <td>0</td>\n",
       "      <td>plot_type_line</td>\n",
       "    </tr>\n",
       "    <tr>\n",
       "      <th>1</th>\n",
       "      <td>Retrieve Value</td>\n",
       "      <td>0</td>\n",
       "      <td>20</td>\n",
       "      <td>plot_type_line</td>\n",
       "    </tr>\n",
       "    <tr>\n",
       "      <th>2</th>\n",
       "      <td>Retrieve Value</td>\n",
       "      <td>0</td>\n",
       "      <td>20</td>\n",
       "      <td>plot_type_line</td>\n",
       "    </tr>\n",
       "    <tr>\n",
       "      <th>3</th>\n",
       "      <td>Retrieve Value</td>\n",
       "      <td>0</td>\n",
       "      <td>20</td>\n",
       "      <td>plot_type_line</td>\n",
       "    </tr>\n",
       "    <tr>\n",
       "      <th>4</th>\n",
       "      <td>Retrieve Value</td>\n",
       "      <td>0</td>\n",
       "      <td>20</td>\n",
       "      <td>plot_type_line</td>\n",
       "    </tr>\n",
       "    <tr>\n",
       "      <th>...</th>\n",
       "      <td>...</td>\n",
       "      <td>...</td>\n",
       "      <td>...</td>\n",
       "      <td>...</td>\n",
       "    </tr>\n",
       "    <tr>\n",
       "      <th>3235</th>\n",
       "      <td>Make Comparisons</td>\n",
       "      <td>20</td>\n",
       "      <td>0</td>\n",
       "      <td>plot_type_bar</td>\n",
       "    </tr>\n",
       "    <tr>\n",
       "      <th>3236</th>\n",
       "      <td>Make Comparisons</td>\n",
       "      <td>0</td>\n",
       "      <td>3</td>\n",
       "      <td>plot_type_bar</td>\n",
       "    </tr>\n",
       "    <tr>\n",
       "      <th>3237</th>\n",
       "      <td>Make Comparisons</td>\n",
       "      <td>19</td>\n",
       "      <td>0</td>\n",
       "      <td>plot_type_bar</td>\n",
       "    </tr>\n",
       "    <tr>\n",
       "      <th>3238</th>\n",
       "      <td>Make Comparisons</td>\n",
       "      <td>1</td>\n",
       "      <td>5</td>\n",
       "      <td>plot_type_bar</td>\n",
       "    </tr>\n",
       "    <tr>\n",
       "      <th>3239</th>\n",
       "      <td>Make Comparisons</td>\n",
       "      <td>20</td>\n",
       "      <td>0</td>\n",
       "      <td>plot_type_bar</td>\n",
       "    </tr>\n",
       "  </tbody>\n",
       "</table>\n",
       "<p>3240 rows × 4 columns</p>\n",
       "</div>"
      ],
      "text/plain": [
       "         question_type  omit_count  correct_count       plot_type\n",
       "0       Retrieve Value          20              0  plot_type_line\n",
       "1       Retrieve Value           0             20  plot_type_line\n",
       "2       Retrieve Value           0             20  plot_type_line\n",
       "3       Retrieve Value           0             20  plot_type_line\n",
       "4       Retrieve Value           0             20  plot_type_line\n",
       "...                ...         ...            ...             ...\n",
       "3235  Make Comparisons          20              0   plot_type_bar\n",
       "3236  Make Comparisons           0              3   plot_type_bar\n",
       "3237  Make Comparisons          19              0   plot_type_bar\n",
       "3238  Make Comparisons           1              5   plot_type_bar\n",
       "3239  Make Comparisons          20              0   plot_type_bar\n",
       "\n",
       "[3240 rows x 4 columns]"
      ]
     },
     "execution_count": 37,
     "metadata": {},
     "output_type": "execute_result"
    }
   ],
   "source": [
    "plot_type_And_question_type"
   ]
  },
  {
   "cell_type": "code",
   "execution_count": 6,
   "metadata": {},
   "outputs": [
    {
     "data": {
      "text/html": [
       "<div>\n",
       "<style scoped>\n",
       "    .dataframe tbody tr th:only-of-type {\n",
       "        vertical-align: middle;\n",
       "    }\n",
       "\n",
       "    .dataframe tbody tr th {\n",
       "        vertical-align: top;\n",
       "    }\n",
       "\n",
       "    .dataframe thead th {\n",
       "        text-align: right;\n",
       "    }\n",
       "</style>\n",
       "<table border=\"1\" class=\"dataframe\">\n",
       "  <thead>\n",
       "    <tr style=\"text-align: right;\">\n",
       "      <th></th>\n",
       "      <th></th>\n",
       "      <th>omit_count</th>\n",
       "      <th>correct_count</th>\n",
       "    </tr>\n",
       "    <tr>\n",
       "      <th>plot_type</th>\n",
       "      <th>question_type</th>\n",
       "      <th></th>\n",
       "      <th></th>\n",
       "    </tr>\n",
       "  </thead>\n",
       "  <tbody>\n",
       "    <tr>\n",
       "      <th rowspan=\"5\" valign=\"top\">plot_type_bar</th>\n",
       "      <th>Determine Range</th>\n",
       "      <td>1.925000</td>\n",
       "      <td>10.900000</td>\n",
       "    </tr>\n",
       "    <tr>\n",
       "      <th>Find Correlations/Trends</th>\n",
       "      <td>7.637500</td>\n",
       "      <td>12.362500</td>\n",
       "    </tr>\n",
       "    <tr>\n",
       "      <th>Find Extremum</th>\n",
       "      <td>0.025000</td>\n",
       "      <td>18.593750</td>\n",
       "    </tr>\n",
       "    <tr>\n",
       "      <th>Make Comparisons</th>\n",
       "      <td>5.606250</td>\n",
       "      <td>7.150000</td>\n",
       "    </tr>\n",
       "    <tr>\n",
       "      <th>Retrieve Value</th>\n",
       "      <td>0.675000</td>\n",
       "      <td>9.200000</td>\n",
       "    </tr>\n",
       "    <tr>\n",
       "      <th rowspan=\"5\" valign=\"top\">plot_type_hist</th>\n",
       "      <th>Characterize Distribution</th>\n",
       "      <td>0.025000</td>\n",
       "      <td>1.950000</td>\n",
       "    </tr>\n",
       "    <tr>\n",
       "      <th>Find Extremum</th>\n",
       "      <td>0.000000</td>\n",
       "      <td>16.025000</td>\n",
       "    </tr>\n",
       "    <tr>\n",
       "      <th>Identify the Characteristic of Bins</th>\n",
       "      <td>9.575000</td>\n",
       "      <td>10.000000</td>\n",
       "    </tr>\n",
       "    <tr>\n",
       "      <th>Make Comparisons</th>\n",
       "      <td>4.800000</td>\n",
       "      <td>14.275000</td>\n",
       "    </tr>\n",
       "    <tr>\n",
       "      <th>Retrieve Value</th>\n",
       "      <td>0.925000</td>\n",
       "      <td>16.925000</td>\n",
       "    </tr>\n",
       "    <tr>\n",
       "      <th rowspan=\"5\" valign=\"top\">plot_type_line</th>\n",
       "      <th>Determine Range</th>\n",
       "      <td>2.812500</td>\n",
       "      <td>16.337500</td>\n",
       "    </tr>\n",
       "    <tr>\n",
       "      <th>Find Correlations/Trends</th>\n",
       "      <td>5.000000</td>\n",
       "      <td>15.000000</td>\n",
       "    </tr>\n",
       "    <tr>\n",
       "      <th>Find Extremum</th>\n",
       "      <td>0.025000</td>\n",
       "      <td>14.725000</td>\n",
       "    </tr>\n",
       "    <tr>\n",
       "      <th>Make Comparisons</th>\n",
       "      <td>4.306250</td>\n",
       "      <td>6.012500</td>\n",
       "    </tr>\n",
       "    <tr>\n",
       "      <th>Retrieve Value</th>\n",
       "      <td>4.712500</td>\n",
       "      <td>7.443750</td>\n",
       "    </tr>\n",
       "    <tr>\n",
       "      <th rowspan=\"3\" valign=\"top\">plot_type_pie</th>\n",
       "      <th>Find Extremum</th>\n",
       "      <td>0.000000</td>\n",
       "      <td>20.000000</td>\n",
       "    </tr>\n",
       "    <tr>\n",
       "      <th>Make Comparisons</th>\n",
       "      <td>0.025000</td>\n",
       "      <td>16.575000</td>\n",
       "    </tr>\n",
       "    <tr>\n",
       "      <th>Retrieve Value</th>\n",
       "      <td>0.000000</td>\n",
       "      <td>20.000000</td>\n",
       "    </tr>\n",
       "    <tr>\n",
       "      <th rowspan=\"7\" valign=\"top\">plot_type_scatter</th>\n",
       "      <th>Determine Range</th>\n",
       "      <td>4.568750</td>\n",
       "      <td>11.062500</td>\n",
       "    </tr>\n",
       "    <tr>\n",
       "      <th>Find Anomalies</th>\n",
       "      <td>0.650000</td>\n",
       "      <td>8.125000</td>\n",
       "    </tr>\n",
       "    <tr>\n",
       "      <th>Find Clusters</th>\n",
       "      <td>10.350000</td>\n",
       "      <td>7.900000</td>\n",
       "    </tr>\n",
       "    <tr>\n",
       "      <th>Find Correlations/Trends</th>\n",
       "      <td>4.566667</td>\n",
       "      <td>15.433333</td>\n",
       "    </tr>\n",
       "    <tr>\n",
       "      <th>Find Extremum</th>\n",
       "      <td>0.350000</td>\n",
       "      <td>16.495000</td>\n",
       "    </tr>\n",
       "    <tr>\n",
       "      <th>Make Comparisons</th>\n",
       "      <td>4.445000</td>\n",
       "      <td>7.570000</td>\n",
       "    </tr>\n",
       "    <tr>\n",
       "      <th>Retrieve Value</th>\n",
       "      <td>2.055000</td>\n",
       "      <td>9.715000</td>\n",
       "    </tr>\n",
       "    <tr>\n",
       "      <th rowspan=\"3\" valign=\"top\">plot_type_stacked_bar</th>\n",
       "      <th>Find Extremum</th>\n",
       "      <td>0.787500</td>\n",
       "      <td>10.475000</td>\n",
       "    </tr>\n",
       "    <tr>\n",
       "      <th>Make Comparisons</th>\n",
       "      <td>10.908333</td>\n",
       "      <td>2.816667</td>\n",
       "    </tr>\n",
       "    <tr>\n",
       "      <th>Retrieve Value</th>\n",
       "      <td>11.606250</td>\n",
       "      <td>2.368750</td>\n",
       "    </tr>\n",
       "    <tr>\n",
       "      <th rowspan=\"3\" valign=\"top\">plot_type_stacked_bar_100</th>\n",
       "      <th>Find Extremum</th>\n",
       "      <td>4.950000</td>\n",
       "      <td>6.750000</td>\n",
       "    </tr>\n",
       "    <tr>\n",
       "      <th>Make Comparisons</th>\n",
       "      <td>1.833333</td>\n",
       "      <td>7.966667</td>\n",
       "    </tr>\n",
       "    <tr>\n",
       "      <th>Retrieve Value</th>\n",
       "      <td>13.633333</td>\n",
       "      <td>5.075000</td>\n",
       "    </tr>\n",
       "  </tbody>\n",
       "</table>\n",
       "</div>"
      ],
      "text/plain": [
       "                                                               omit_count  \\\n",
       "plot_type                 question_type                                     \n",
       "plot_type_bar             Determine Range                        1.925000   \n",
       "                          Find Correlations/Trends               7.637500   \n",
       "                          Find Extremum                          0.025000   \n",
       "                          Make Comparisons                       5.606250   \n",
       "                          Retrieve Value                         0.675000   \n",
       "plot_type_hist            Characterize Distribution              0.025000   \n",
       "                          Find Extremum                          0.000000   \n",
       "                          Identify the Characteristic of Bins    9.575000   \n",
       "                          Make Comparisons                       4.800000   \n",
       "                          Retrieve Value                         0.925000   \n",
       "plot_type_line            Determine Range                        2.812500   \n",
       "                          Find Correlations/Trends               5.000000   \n",
       "                          Find Extremum                          0.025000   \n",
       "                          Make Comparisons                       4.306250   \n",
       "                          Retrieve Value                         4.712500   \n",
       "plot_type_pie             Find Extremum                          0.000000   \n",
       "                          Make Comparisons                       0.025000   \n",
       "                          Retrieve Value                         0.000000   \n",
       "plot_type_scatter         Determine Range                        4.568750   \n",
       "                          Find Anomalies                         0.650000   \n",
       "                          Find Clusters                         10.350000   \n",
       "                          Find Correlations/Trends               4.566667   \n",
       "                          Find Extremum                          0.350000   \n",
       "                          Make Comparisons                       4.445000   \n",
       "                          Retrieve Value                         2.055000   \n",
       "plot_type_stacked_bar     Find Extremum                          0.787500   \n",
       "                          Make Comparisons                      10.908333   \n",
       "                          Retrieve Value                        11.606250   \n",
       "plot_type_stacked_bar_100 Find Extremum                          4.950000   \n",
       "                          Make Comparisons                       1.833333   \n",
       "                          Retrieve Value                        13.633333   \n",
       "\n",
       "                                                               correct_count  \n",
       "plot_type                 question_type                                       \n",
       "plot_type_bar             Determine Range                          10.900000  \n",
       "                          Find Correlations/Trends                 12.362500  \n",
       "                          Find Extremum                            18.593750  \n",
       "                          Make Comparisons                          7.150000  \n",
       "                          Retrieve Value                            9.200000  \n",
       "plot_type_hist            Characterize Distribution                 1.950000  \n",
       "                          Find Extremum                            16.025000  \n",
       "                          Identify the Characteristic of Bins      10.000000  \n",
       "                          Make Comparisons                         14.275000  \n",
       "                          Retrieve Value                           16.925000  \n",
       "plot_type_line            Determine Range                          16.337500  \n",
       "                          Find Correlations/Trends                 15.000000  \n",
       "                          Find Extremum                            14.725000  \n",
       "                          Make Comparisons                          6.012500  \n",
       "                          Retrieve Value                            7.443750  \n",
       "plot_type_pie             Find Extremum                            20.000000  \n",
       "                          Make Comparisons                         16.575000  \n",
       "                          Retrieve Value                           20.000000  \n",
       "plot_type_scatter         Determine Range                          11.062500  \n",
       "                          Find Anomalies                            8.125000  \n",
       "                          Find Clusters                             7.900000  \n",
       "                          Find Correlations/Trends                 15.433333  \n",
       "                          Find Extremum                            16.495000  \n",
       "                          Make Comparisons                          7.570000  \n",
       "                          Retrieve Value                            9.715000  \n",
       "plot_type_stacked_bar     Find Extremum                            10.475000  \n",
       "                          Make Comparisons                          2.816667  \n",
       "                          Retrieve Value                            2.368750  \n",
       "plot_type_stacked_bar_100 Find Extremum                             6.750000  \n",
       "                          Make Comparisons                          7.966667  \n",
       "                          Retrieve Value                            5.075000  "
      ]
     },
     "execution_count": 6,
     "metadata": {},
     "output_type": "execute_result"
    }
   ],
   "source": [
    "grouped_means = plot_type_And_question_type.groupby([\"plot_type\", \"question_type\"]).mean()\n",
    "\n",
    "grouped_means"
   ]
  },
  {
   "cell_type": "markdown",
   "metadata": {},
   "source": [
    "highjacking again to see plot title "
   ]
  },
  {
   "cell_type": "code",
   "execution_count": null,
   "metadata": {},
   "outputs": [],
   "source": [
    "df_title = df[['question_type', \"omit_count\", \"correct_count\",'referential_title']]"
   ]
  },
  {
   "cell_type": "code",
   "execution_count": 8,
   "metadata": {},
   "outputs": [],
   "source": [
    "def binary_to_referential_normal(df, column_name):\n",
    "  \"\"\"\n",
    "  Transforms a binary column (1/0) in a pandas DataFrame to a categorical column \n",
    "  with \"referential\" for 1 and \"normal\" for 0.\n",
    "\n",
    "  Args:\n",
    "    df: pandas DataFrame.\n",
    "    column_name: Name of the column to transform.\n",
    "\n",
    "  Returns:\n",
    "    pandas DataFrame with the modified column.\n",
    "  \"\"\"\n",
    "\n",
    "  if column_name not in df.columns:\n",
    "        raise ValueError(f\"Column '{column_name}' not found in DataFrame.\")\n",
    "\n",
    "  if not pd.api.types.is_numeric_dtype(df[column_name]):\n",
    "        raise ValueError(f\"Column '{column_name}' is not numeric.\")\n",
    "\n",
    "  if set(df[column_name].unique()) != {0, 1}:\n",
    "        raise ValueError(f\"Column '{column_name}' does not contain only 0 and 1.\")\n",
    "\n",
    "  df[column_name] = df[column_name].apply(lambda x: \"referential\" if x == 1 else \"normal\")\n",
    "  return df"
   ]
  },
  {
   "cell_type": "code",
   "execution_count": 9,
   "metadata": {},
   "outputs": [
    {
     "name": "stderr",
     "output_type": "stream",
     "text": [
      "C:\\Users\\matheus\\AppData\\Local\\Temp\\ipykernel_78740\\1551155526.py:23: SettingWithCopyWarning: \n",
      "A value is trying to be set on a copy of a slice from a DataFrame.\n",
      "Try using .loc[row_indexer,col_indexer] = value instead\n",
      "\n",
      "See the caveats in the documentation: https://pandas.pydata.org/pandas-docs/stable/user_guide/indexing.html#returning-a-view-versus-a-copy\n",
      "  df[column_name] = df[column_name].apply(lambda x: \"referential\" if x == 1 else \"normal\")\n"
     ]
    }
   ],
   "source": [
    "newdf = binary_to_referential_normal(df_title, \"referential_title\")"
   ]
  },
  {
   "cell_type": "code",
   "execution_count": 10,
   "metadata": {},
   "outputs": [],
   "source": [
    "referential_cc = newdf[newdf[\"referential_title\"] == \"referential\"][\"omit_count\"]\n",
    "normal_cc = newdf[newdf[\"referential_title\"] == \"normal\"][\"omit_count\"]"
   ]
  },
  {
   "cell_type": "code",
   "execution_count": 11,
   "metadata": {},
   "outputs": [
    {
     "name": "stdout",
     "output_type": "stream",
     "text": [
      "H-statistic: 1.457, P-value: 0.227\n"
     ]
    }
   ],
   "source": [
    "# data is by no means normally distributed so no ANOVA, lets see if any of them distance themselves significantly\n",
    "# Kruskal-Wallis test (non-parametric alternative)\n",
    "\n",
    "import scipy.stats as stats\n",
    "h_stat, p_value = stats.kruskal(referential_cc, normal_cc)\n",
    "\n",
    "print(f\"H-statistic: {h_stat:.3f}, P-value: {p_value:.3f}\")\n"
   ]
  },
  {
   "cell_type": "markdown",
   "metadata": {},
   "source": [
    "highjacking it here to create statistics about color palettes"
   ]
  },
  {
   "cell_type": "markdown",
   "metadata": {},
   "source": [
    "ill actually go straight for the statistical test"
   ]
  },
  {
   "cell_type": "code",
   "execution_count": 12,
   "metadata": {},
   "outputs": [
    {
     "name": "stdout",
     "output_type": "stream",
     "text": [
      "['question_type', 'omit_count', 'correct_count', 'color_black', 'color_burlywood', 'color_chartreuse', 'color_lightgray', 'color_lightpink', 'color_mediumvioletred', 'color_navy', 'color_red', 'color_saddlebrown', 'color_tomato']\n"
     ]
    },
    {
     "name": "stderr",
     "output_type": "stream",
     "text": [
      "C:\\Users\\matheus\\AppData\\Local\\Temp\\ipykernel_78740\\343660625.py:7: SettingWithCopyWarning: \n",
      "A value is trying to be set on a copy of a slice from a DataFrame.\n",
      "Try using .loc[row_indexer,col_indexer] = value instead\n",
      "\n",
      "See the caveats in the documentation: https://pandas.pydata.org/pandas-docs/stable/user_guide/indexing.html#returning-a-view-versus-a-copy\n",
      "  intermediate_plot[new_column] = intermediate_plot[columns_to_be_compacted].idxmax(axis=1)\n"
     ]
    },
    {
     "data": {
      "text/html": [
       "<div>\n",
       "<style scoped>\n",
       "    .dataframe tbody tr th:only-of-type {\n",
       "        vertical-align: middle;\n",
       "    }\n",
       "\n",
       "    .dataframe tbody tr th {\n",
       "        vertical-align: top;\n",
       "    }\n",
       "\n",
       "    .dataframe thead th {\n",
       "        text-align: right;\n",
       "    }\n",
       "</style>\n",
       "<table border=\"1\" class=\"dataframe\">\n",
       "  <thead>\n",
       "    <tr style=\"text-align: right;\">\n",
       "      <th></th>\n",
       "      <th>question_type</th>\n",
       "      <th>omit_count</th>\n",
       "      <th>correct_count</th>\n",
       "      <th>color_type</th>\n",
       "    </tr>\n",
       "  </thead>\n",
       "  <tbody>\n",
       "    <tr>\n",
       "      <th>0</th>\n",
       "      <td>Retrieve Value</td>\n",
       "      <td>20</td>\n",
       "      <td>0</td>\n",
       "      <td>color_black</td>\n",
       "    </tr>\n",
       "    <tr>\n",
       "      <th>1</th>\n",
       "      <td>Retrieve Value</td>\n",
       "      <td>0</td>\n",
       "      <td>20</td>\n",
       "      <td>color_burlywood</td>\n",
       "    </tr>\n",
       "    <tr>\n",
       "      <th>2</th>\n",
       "      <td>Retrieve Value</td>\n",
       "      <td>0</td>\n",
       "      <td>20</td>\n",
       "      <td>color_chartreuse</td>\n",
       "    </tr>\n",
       "    <tr>\n",
       "      <th>3</th>\n",
       "      <td>Retrieve Value</td>\n",
       "      <td>0</td>\n",
       "      <td>20</td>\n",
       "      <td>color_lightgray</td>\n",
       "    </tr>\n",
       "    <tr>\n",
       "      <th>4</th>\n",
       "      <td>Retrieve Value</td>\n",
       "      <td>0</td>\n",
       "      <td>20</td>\n",
       "      <td>color_lightpink</td>\n",
       "    </tr>\n",
       "    <tr>\n",
       "      <th>...</th>\n",
       "      <td>...</td>\n",
       "      <td>...</td>\n",
       "      <td>...</td>\n",
       "      <td>...</td>\n",
       "    </tr>\n",
       "    <tr>\n",
       "      <th>3235</th>\n",
       "      <td>Make Comparisons</td>\n",
       "      <td>20</td>\n",
       "      <td>0</td>\n",
       "      <td>color_mediumvioletred</td>\n",
       "    </tr>\n",
       "    <tr>\n",
       "      <th>3236</th>\n",
       "      <td>Make Comparisons</td>\n",
       "      <td>0</td>\n",
       "      <td>3</td>\n",
       "      <td>color_chartreuse</td>\n",
       "    </tr>\n",
       "    <tr>\n",
       "      <th>3237</th>\n",
       "      <td>Make Comparisons</td>\n",
       "      <td>19</td>\n",
       "      <td>0</td>\n",
       "      <td>color_chartreuse</td>\n",
       "    </tr>\n",
       "    <tr>\n",
       "      <th>3238</th>\n",
       "      <td>Make Comparisons</td>\n",
       "      <td>1</td>\n",
       "      <td>5</td>\n",
       "      <td>color_burlywood</td>\n",
       "    </tr>\n",
       "    <tr>\n",
       "      <th>3239</th>\n",
       "      <td>Make Comparisons</td>\n",
       "      <td>20</td>\n",
       "      <td>0</td>\n",
       "      <td>color_burlywood</td>\n",
       "    </tr>\n",
       "  </tbody>\n",
       "</table>\n",
       "<p>3240 rows × 4 columns</p>\n",
       "</div>"
      ],
      "text/plain": [
       "         question_type  omit_count  correct_count             color_type\n",
       "0       Retrieve Value          20              0            color_black\n",
       "1       Retrieve Value           0             20        color_burlywood\n",
       "2       Retrieve Value           0             20       color_chartreuse\n",
       "3       Retrieve Value           0             20        color_lightgray\n",
       "4       Retrieve Value           0             20        color_lightpink\n",
       "...                ...         ...            ...                    ...\n",
       "3235  Make Comparisons          20              0  color_mediumvioletred\n",
       "3236  Make Comparisons           0              3       color_chartreuse\n",
       "3237  Make Comparisons          19              0       color_chartreuse\n",
       "3238  Make Comparisons           1              5        color_burlywood\n",
       "3239  Make Comparisons          20              0        color_burlywood\n",
       "\n",
       "[3240 rows x 4 columns]"
      ]
     },
     "execution_count": 12,
     "metadata": {},
     "output_type": "execute_result"
    }
   ],
   "source": [
    "df_pre = subset_the_df(df, ['question_type', \"omit_count\", \"correct_count\",\n",
    "                      'color_black', 'color_burlywood',\n",
    "       'color_chartreuse', 'color_lightgray', 'color_lightpink',\n",
    "       'color_mediumvioletred', 'color_navy', 'color_red', 'color_saddlebrown',\n",
    "       'color_tomato'], ['color_black', 'color_burlywood',\n",
    "       'color_chartreuse', 'color_lightgray', 'color_lightpink',\n",
    "       'color_mediumvioletred', 'color_navy', 'color_red', 'color_saddlebrown',\n",
    "       'color_tomato'], \"color_type\")\n",
    "\n",
    "df_pre"
   ]
  },
  {
   "cell_type": "code",
   "execution_count": 13,
   "metadata": {},
   "outputs": [
    {
     "data": {
      "text/plain": [
       "'\\nline_df_cc = color_black[\"correct_count\"]\\nstacked_bar_100_cc = stacked_bar_100[\"correct_count\"]\\nstacked_bar_cc= stacked_bar[\"correct_count\"]\\nscatter_cc = scatter[\"correct_count\"]\\nbar_cc = bar[\"correct_count\"]\\npie_cc = pie[\"correct_count\"]\\nhist_cc = hist[\"correct_count\"]\\'\\n'"
      ]
     },
     "execution_count": 13,
     "metadata": {},
     "output_type": "execute_result"
    }
   ],
   "source": [
    "plot_types = list(df_pre[\"color_type\"].unique())\n",
    "list_of_dfs = []\n",
    "for i in plot_types:\n",
    "    df = df_pre[df_pre[\"color_type\"] == i]\n",
    "    list_of_dfs.append(df)\n",
    "\n",
    "color_black = list_of_dfs[0][\"omit_count\"]\n",
    "burlywoord = list_of_dfs[1][\"omit_count\"]\n",
    "chartreuse = list_of_dfs[2][\"omit_count\"]\n",
    "lightgray= list_of_dfs[3][\"omit_count\"]\n",
    "lightpink = list_of_dfs[4][\"omit_count\"]\n",
    "mediumvioletred = list_of_dfs[5][\"omit_count\"]\n",
    "navy = list_of_dfs[6][\"omit_count\"]\n",
    "red = list_of_dfs[7][\"omit_count\"]\n",
    "saddlebrown = list_of_dfs[8][\"omit_count\"]\n",
    "tomato = list_of_dfs[9][\"omit_count\"]\n",
    "\n",
    "#get the correct counts for each\n",
    "'''\n",
    "line_df_cc = color_black[\"correct_count\"]\n",
    "stacked_bar_100_cc = stacked_bar_100[\"correct_count\"]\n",
    "stacked_bar_cc= stacked_bar[\"correct_count\"]\n",
    "scatter_cc = scatter[\"correct_count\"]\n",
    "bar_cc = bar[\"correct_count\"]\n",
    "pie_cc = pie[\"correct_count\"]\n",
    "hist_cc = hist[\"correct_count\"]'\n",
    "'''"
   ]
  },
  {
   "cell_type": "code",
   "execution_count": 14,
   "metadata": {},
   "outputs": [
    {
     "name": "stdout",
     "output_type": "stream",
     "text": [
      "H-statistic: 6.544, P-value: 0.684\n"
     ]
    }
   ],
   "source": [
    "# data is by no means normally distributed so no ANOVA, lets see if any of them distance themselves significantly\n",
    "# Kruskal-Wallis test (non-parametric alternative)\n",
    "\n",
    "import scipy.stats as stats\n",
    "h_stat, p_value = stats.kruskal(color_black, burlywoord, chartreuse, lightgray, lightpink, mediumvioletred, navy, red, saddlebrown, tomato)\n",
    "\n",
    "print(f\"H-statistic: {h_stat:.3f}, P-value: {p_value:.3f}\")\n"
   ]
  },
  {
   "cell_type": "markdown",
   "metadata": {},
   "source": [
    "this below is origin plot and transformational plot analysis"
   ]
  },
  {
   "cell_type": "code",
   "execution_count": 15,
   "metadata": {},
   "outputs": [
    {
     "name": "stdout",
     "output_type": "stream",
     "text": [
      "['question_type', 'dataset_100_stacked_bar_data.csv', 'dataset_area_data.csv', 'dataset_bar_data.csv', 'dataset_histogram_data.csv', 'dataset_line_data.csv', 'dataset_pie_data.csv', 'dataset_scatterplot_data.csv', 'dataset_stacked_area_data.csv', 'dataset_stacked_bar_data.csv', 'plot_type_bar', 'plot_type_hist', 'plot_type_line', 'plot_type_pie', 'plot_type_scatter', 'plot_type_stacked_bar', 'plot_type_stacked_bar_100', 'omit_count', 'correct_count']\n"
     ]
    },
    {
     "ename": "KeyError",
     "evalue": "\"['dataset_100_stacked_bar_data.csv', 'dataset_area_data.csv', 'dataset_bar_data.csv', 'dataset_histogram_data.csv', 'dataset_line_data.csv', 'dataset_pie_data.csv', 'dataset_scatterplot_data.csv', 'dataset_stacked_area_data.csv', 'dataset_stacked_bar_data.csv', 'plot_type_bar', 'plot_type_hist', 'plot_type_line', 'plot_type_pie', 'plot_type_scatter', 'plot_type_stacked_bar', 'plot_type_stacked_bar_100'] not in index\"",
     "output_type": "error",
     "traceback": [
      "\u001b[1;31m---------------------------------------------------------------------------\u001b[0m",
      "\u001b[1;31mKeyError\u001b[0m                                  Traceback (most recent call last)",
      "Cell \u001b[1;32mIn[15], line 1\u001b[0m\n\u001b[1;32m----> 1\u001b[0m df2 \u001b[38;5;241m=\u001b[39m subset_the_df(df, [\u001b[38;5;124m'\u001b[39m\u001b[38;5;124mquestion_type\u001b[39m\u001b[38;5;124m'\u001b[39m, \u001b[38;5;124m'\u001b[39m\u001b[38;5;124mdataset_100_stacked_bar_data.csv\u001b[39m\u001b[38;5;124m'\u001b[39m,\n\u001b[0;32m      2\u001b[0m        \u001b[38;5;124m'\u001b[39m\u001b[38;5;124mdataset_area_data.csv\u001b[39m\u001b[38;5;124m'\u001b[39m, \u001b[38;5;124m'\u001b[39m\u001b[38;5;124mdataset_bar_data.csv\u001b[39m\u001b[38;5;124m'\u001b[39m,\n\u001b[0;32m      3\u001b[0m        \u001b[38;5;124m'\u001b[39m\u001b[38;5;124mdataset_histogram_data.csv\u001b[39m\u001b[38;5;124m'\u001b[39m, \u001b[38;5;124m'\u001b[39m\u001b[38;5;124mdataset_line_data.csv\u001b[39m\u001b[38;5;124m'\u001b[39m,\n\u001b[0;32m      4\u001b[0m        \u001b[38;5;124m'\u001b[39m\u001b[38;5;124mdataset_pie_data.csv\u001b[39m\u001b[38;5;124m'\u001b[39m, \u001b[38;5;124m'\u001b[39m\u001b[38;5;124mdataset_scatterplot_data.csv\u001b[39m\u001b[38;5;124m'\u001b[39m,\n\u001b[0;32m      5\u001b[0m        \u001b[38;5;124m'\u001b[39m\u001b[38;5;124mdataset_stacked_area_data.csv\u001b[39m\u001b[38;5;124m'\u001b[39m, \u001b[38;5;124m'\u001b[39m\u001b[38;5;124mdataset_stacked_bar_data.csv\u001b[39m\u001b[38;5;124m'\u001b[39m,\n\u001b[0;32m      6\u001b[0m        \u001b[38;5;124m'\u001b[39m\u001b[38;5;124mplot_type_bar\u001b[39m\u001b[38;5;124m'\u001b[39m, \u001b[38;5;124m'\u001b[39m\u001b[38;5;124mplot_type_hist\u001b[39m\u001b[38;5;124m'\u001b[39m, \u001b[38;5;124m'\u001b[39m\u001b[38;5;124mplot_type_line\u001b[39m\u001b[38;5;124m'\u001b[39m, \u001b[38;5;124m'\u001b[39m\u001b[38;5;124mplot_type_pie\u001b[39m\u001b[38;5;124m'\u001b[39m,\n\u001b[0;32m      7\u001b[0m        \u001b[38;5;124m'\u001b[39m\u001b[38;5;124mplot_type_scatter\u001b[39m\u001b[38;5;124m'\u001b[39m, \u001b[38;5;124m'\u001b[39m\u001b[38;5;124mplot_type_stacked_bar\u001b[39m\u001b[38;5;124m'\u001b[39m,\n\u001b[0;32m      8\u001b[0m        \u001b[38;5;124m'\u001b[39m\u001b[38;5;124mplot_type_stacked_bar_100\u001b[39m\u001b[38;5;124m'\u001b[39m, \u001b[38;5;124m\"\u001b[39m\u001b[38;5;124momit_count\u001b[39m\u001b[38;5;124m\"\u001b[39m, \u001b[38;5;124m\"\u001b[39m\u001b[38;5;124mcorrect_count\u001b[39m\u001b[38;5;124m\"\u001b[39m], [\u001b[38;5;124m'\u001b[39m\u001b[38;5;124mdataset_100_stacked_bar_data.csv\u001b[39m\u001b[38;5;124m'\u001b[39m,\n\u001b[0;32m      9\u001b[0m        \u001b[38;5;124m'\u001b[39m\u001b[38;5;124mdataset_area_data.csv\u001b[39m\u001b[38;5;124m'\u001b[39m, \u001b[38;5;124m'\u001b[39m\u001b[38;5;124mdataset_bar_data.csv\u001b[39m\u001b[38;5;124m'\u001b[39m,\n\u001b[0;32m     10\u001b[0m        \u001b[38;5;124m'\u001b[39m\u001b[38;5;124mdataset_histogram_data.csv\u001b[39m\u001b[38;5;124m'\u001b[39m, \u001b[38;5;124m'\u001b[39m\u001b[38;5;124mdataset_line_data.csv\u001b[39m\u001b[38;5;124m'\u001b[39m,\n\u001b[0;32m     11\u001b[0m        \u001b[38;5;124m'\u001b[39m\u001b[38;5;124mdataset_pie_data.csv\u001b[39m\u001b[38;5;124m'\u001b[39m, \u001b[38;5;124m'\u001b[39m\u001b[38;5;124mdataset_scatterplot_data.csv\u001b[39m\u001b[38;5;124m'\u001b[39m,\n\u001b[0;32m     12\u001b[0m        \u001b[38;5;124m'\u001b[39m\u001b[38;5;124mdataset_stacked_area_data.csv\u001b[39m\u001b[38;5;124m'\u001b[39m, \u001b[38;5;124m'\u001b[39m\u001b[38;5;124mdataset_stacked_bar_data.csv\u001b[39m\u001b[38;5;124m'\u001b[39m], \u001b[38;5;124m\"\u001b[39m\u001b[38;5;124moriginal_dataset\u001b[39m\u001b[38;5;124m\"\u001b[39m)\n",
      "Cell \u001b[1;32mIn[4], line 6\u001b[0m, in \u001b[0;36msubset_the_df\u001b[1;34m(df, filtered_columns, columns_to_be_compacted, new_column)\u001b[0m\n\u001b[0;32m      4\u001b[0m \u001b[38;5;28mprint\u001b[39m(filtered_columns)\n\u001b[0;32m      5\u001b[0m \u001b[38;5;66;03m#filter the columns and create a new column via idxmax\u001b[39;00m\n\u001b[1;32m----> 6\u001b[0m intermediate_plot \u001b[38;5;241m=\u001b[39m df[filtered_columns]\n\u001b[0;32m      7\u001b[0m intermediate_plot[new_column] \u001b[38;5;241m=\u001b[39m intermediate_plot[columns_to_be_compacted]\u001b[38;5;241m.\u001b[39midxmax(axis\u001b[38;5;241m=\u001b[39m\u001b[38;5;241m1\u001b[39m)\n\u001b[0;32m      9\u001b[0m \u001b[38;5;66;03m#drop all the columns we compacted, we dont need them anymore\u001b[39;00m\n",
      "File \u001b[1;32mc:\\Users\\matheus\\anaconda35\\envs\\mylilenv\\Lib\\site-packages\\pandas\\core\\frame.py:3902\u001b[0m, in \u001b[0;36mDataFrame.__getitem__\u001b[1;34m(self, key)\u001b[0m\n\u001b[0;32m   3900\u001b[0m     \u001b[38;5;28;01mif\u001b[39;00m is_iterator(key):\n\u001b[0;32m   3901\u001b[0m         key \u001b[38;5;241m=\u001b[39m \u001b[38;5;28mlist\u001b[39m(key)\n\u001b[1;32m-> 3902\u001b[0m     indexer \u001b[38;5;241m=\u001b[39m \u001b[38;5;28mself\u001b[39m\u001b[38;5;241m.\u001b[39mcolumns\u001b[38;5;241m.\u001b[39m_get_indexer_strict(key, \u001b[38;5;124m\"\u001b[39m\u001b[38;5;124mcolumns\u001b[39m\u001b[38;5;124m\"\u001b[39m)[\u001b[38;5;241m1\u001b[39m]\n\u001b[0;32m   3904\u001b[0m \u001b[38;5;66;03m# take() does not accept boolean indexers\u001b[39;00m\n\u001b[0;32m   3905\u001b[0m \u001b[38;5;28;01mif\u001b[39;00m \u001b[38;5;28mgetattr\u001b[39m(indexer, \u001b[38;5;124m\"\u001b[39m\u001b[38;5;124mdtype\u001b[39m\u001b[38;5;124m\"\u001b[39m, \u001b[38;5;28;01mNone\u001b[39;00m) \u001b[38;5;241m==\u001b[39m \u001b[38;5;28mbool\u001b[39m:\n",
      "File \u001b[1;32mc:\\Users\\matheus\\anaconda35\\envs\\mylilenv\\Lib\\site-packages\\pandas\\core\\indexes\\base.py:6114\u001b[0m, in \u001b[0;36mIndex._get_indexer_strict\u001b[1;34m(self, key, axis_name)\u001b[0m\n\u001b[0;32m   6111\u001b[0m \u001b[38;5;28;01melse\u001b[39;00m:\n\u001b[0;32m   6112\u001b[0m     keyarr, indexer, new_indexer \u001b[38;5;241m=\u001b[39m \u001b[38;5;28mself\u001b[39m\u001b[38;5;241m.\u001b[39m_reindex_non_unique(keyarr)\n\u001b[1;32m-> 6114\u001b[0m \u001b[38;5;28mself\u001b[39m\u001b[38;5;241m.\u001b[39m_raise_if_missing(keyarr, indexer, axis_name)\n\u001b[0;32m   6116\u001b[0m keyarr \u001b[38;5;241m=\u001b[39m \u001b[38;5;28mself\u001b[39m\u001b[38;5;241m.\u001b[39mtake(indexer)\n\u001b[0;32m   6117\u001b[0m \u001b[38;5;28;01mif\u001b[39;00m \u001b[38;5;28misinstance\u001b[39m(key, Index):\n\u001b[0;32m   6118\u001b[0m     \u001b[38;5;66;03m# GH 42790 - Preserve name from an Index\u001b[39;00m\n",
      "File \u001b[1;32mc:\\Users\\matheus\\anaconda35\\envs\\mylilenv\\Lib\\site-packages\\pandas\\core\\indexes\\base.py:6178\u001b[0m, in \u001b[0;36mIndex._raise_if_missing\u001b[1;34m(self, key, indexer, axis_name)\u001b[0m\n\u001b[0;32m   6175\u001b[0m     \u001b[38;5;28;01mraise\u001b[39;00m \u001b[38;5;167;01mKeyError\u001b[39;00m(\u001b[38;5;124mf\u001b[39m\u001b[38;5;124m\"\u001b[39m\u001b[38;5;124mNone of [\u001b[39m\u001b[38;5;132;01m{\u001b[39;00mkey\u001b[38;5;132;01m}\u001b[39;00m\u001b[38;5;124m] are in the [\u001b[39m\u001b[38;5;132;01m{\u001b[39;00maxis_name\u001b[38;5;132;01m}\u001b[39;00m\u001b[38;5;124m]\u001b[39m\u001b[38;5;124m\"\u001b[39m)\n\u001b[0;32m   6177\u001b[0m not_found \u001b[38;5;241m=\u001b[39m \u001b[38;5;28mlist\u001b[39m(ensure_index(key)[missing_mask\u001b[38;5;241m.\u001b[39mnonzero()[\u001b[38;5;241m0\u001b[39m]]\u001b[38;5;241m.\u001b[39munique())\n\u001b[1;32m-> 6178\u001b[0m \u001b[38;5;28;01mraise\u001b[39;00m \u001b[38;5;167;01mKeyError\u001b[39;00m(\u001b[38;5;124mf\u001b[39m\u001b[38;5;124m\"\u001b[39m\u001b[38;5;132;01m{\u001b[39;00mnot_found\u001b[38;5;132;01m}\u001b[39;00m\u001b[38;5;124m not in index\u001b[39m\u001b[38;5;124m\"\u001b[39m)\n",
      "\u001b[1;31mKeyError\u001b[0m: \"['dataset_100_stacked_bar_data.csv', 'dataset_area_data.csv', 'dataset_bar_data.csv', 'dataset_histogram_data.csv', 'dataset_line_data.csv', 'dataset_pie_data.csv', 'dataset_scatterplot_data.csv', 'dataset_stacked_area_data.csv', 'dataset_stacked_bar_data.csv', 'plot_type_bar', 'plot_type_hist', 'plot_type_line', 'plot_type_pie', 'plot_type_scatter', 'plot_type_stacked_bar', 'plot_type_stacked_bar_100'] not in index\""
     ]
    }
   ],
   "source": [
    "df2 = subset_the_df(df, ['question_type', 'dataset_100_stacked_bar_data.csv',\n",
    "       'dataset_area_data.csv', 'dataset_bar_data.csv',\n",
    "       'dataset_histogram_data.csv', 'dataset_line_data.csv',\n",
    "       'dataset_pie_data.csv', 'dataset_scatterplot_data.csv',\n",
    "       'dataset_stacked_area_data.csv', 'dataset_stacked_bar_data.csv',\n",
    "       'plot_type_bar', 'plot_type_hist', 'plot_type_line', 'plot_type_pie',\n",
    "       'plot_type_scatter', 'plot_type_stacked_bar',\n",
    "       'plot_type_stacked_bar_100', \"omit_count\", \"correct_count\"], ['dataset_100_stacked_bar_data.csv',\n",
    "       'dataset_area_data.csv', 'dataset_bar_data.csv',\n",
    "       'dataset_histogram_data.csv', 'dataset_line_data.csv',\n",
    "       'dataset_pie_data.csv', 'dataset_scatterplot_data.csv',\n",
    "       'dataset_stacked_area_data.csv', 'dataset_stacked_bar_data.csv'], \"original_dataset\")"
   ]
  },
  {
   "cell_type": "code",
   "execution_count": 24,
   "metadata": {},
   "outputs": [
    {
     "name": "stdout",
     "output_type": "stream",
     "text": [
      "Index(['question_type', 'plot_type_bar', 'plot_type_hist', 'plot_type_line',\n",
      "       'plot_type_pie', 'plot_type_scatter', 'plot_type_stacked_bar',\n",
      "       'plot_type_stacked_bar_100', 'omit_count', 'correct_count',\n",
      "       'original_dataset'],\n",
      "      dtype='object')\n"
     ]
    }
   ],
   "source": [
    "df3 = subset_the_df(df2, df2.columns, ['plot_type_bar', 'plot_type_hist', 'plot_type_line', 'plot_type_pie',\n",
    "       'plot_type_scatter', 'plot_type_stacked_bar',\n",
    "       'plot_type_stacked_bar_100'], \"plot_type\")"
   ]
  },
  {
   "cell_type": "code",
   "execution_count": 50,
   "metadata": {},
   "outputs": [
    {
     "data": {
      "text/html": [
       "<div>\n",
       "<style scoped>\n",
       "    .dataframe tbody tr th:only-of-type {\n",
       "        vertical-align: middle;\n",
       "    }\n",
       "\n",
       "    .dataframe tbody tr th {\n",
       "        vertical-align: top;\n",
       "    }\n",
       "\n",
       "    .dataframe thead th {\n",
       "        text-align: right;\n",
       "    }\n",
       "</style>\n",
       "<table border=\"1\" class=\"dataframe\">\n",
       "  <thead>\n",
       "    <tr style=\"text-align: right;\">\n",
       "      <th></th>\n",
       "      <th>question_type</th>\n",
       "      <th>omit_count</th>\n",
       "      <th>correct_count</th>\n",
       "      <th>original_dataset</th>\n",
       "      <th>plot_type</th>\n",
       "    </tr>\n",
       "  </thead>\n",
       "  <tbody>\n",
       "    <tr>\n",
       "      <th>0</th>\n",
       "      <td>Retrieve Value</td>\n",
       "      <td>20</td>\n",
       "      <td>0</td>\n",
       "      <td>dataset_stacked_area_data.csv</td>\n",
       "      <td>plot_type_line</td>\n",
       "    </tr>\n",
       "    <tr>\n",
       "      <th>1</th>\n",
       "      <td>Retrieve Value</td>\n",
       "      <td>0</td>\n",
       "      <td>20</td>\n",
       "      <td>dataset_stacked_area_data.csv</td>\n",
       "      <td>plot_type_line</td>\n",
       "    </tr>\n",
       "    <tr>\n",
       "      <th>2</th>\n",
       "      <td>Retrieve Value</td>\n",
       "      <td>0</td>\n",
       "      <td>20</td>\n",
       "      <td>dataset_stacked_area_data.csv</td>\n",
       "      <td>plot_type_line</td>\n",
       "    </tr>\n",
       "    <tr>\n",
       "      <th>3</th>\n",
       "      <td>Retrieve Value</td>\n",
       "      <td>0</td>\n",
       "      <td>20</td>\n",
       "      <td>dataset_stacked_area_data.csv</td>\n",
       "      <td>plot_type_line</td>\n",
       "    </tr>\n",
       "    <tr>\n",
       "      <th>4</th>\n",
       "      <td>Retrieve Value</td>\n",
       "      <td>0</td>\n",
       "      <td>20</td>\n",
       "      <td>dataset_stacked_area_data.csv</td>\n",
       "      <td>plot_type_line</td>\n",
       "    </tr>\n",
       "    <tr>\n",
       "      <th>...</th>\n",
       "      <td>...</td>\n",
       "      <td>...</td>\n",
       "      <td>...</td>\n",
       "      <td>...</td>\n",
       "      <td>...</td>\n",
       "    </tr>\n",
       "    <tr>\n",
       "      <th>3235</th>\n",
       "      <td>Make Comparisons</td>\n",
       "      <td>20</td>\n",
       "      <td>0</td>\n",
       "      <td>dataset_area_data.csv</td>\n",
       "      <td>plot_type_bar</td>\n",
       "    </tr>\n",
       "    <tr>\n",
       "      <th>3236</th>\n",
       "      <td>Make Comparisons</td>\n",
       "      <td>0</td>\n",
       "      <td>3</td>\n",
       "      <td>dataset_area_data.csv</td>\n",
       "      <td>plot_type_bar</td>\n",
       "    </tr>\n",
       "    <tr>\n",
       "      <th>3237</th>\n",
       "      <td>Make Comparisons</td>\n",
       "      <td>19</td>\n",
       "      <td>0</td>\n",
       "      <td>dataset_area_data.csv</td>\n",
       "      <td>plot_type_bar</td>\n",
       "    </tr>\n",
       "    <tr>\n",
       "      <th>3238</th>\n",
       "      <td>Make Comparisons</td>\n",
       "      <td>1</td>\n",
       "      <td>5</td>\n",
       "      <td>dataset_area_data.csv</td>\n",
       "      <td>plot_type_bar</td>\n",
       "    </tr>\n",
       "    <tr>\n",
       "      <th>3239</th>\n",
       "      <td>Make Comparisons</td>\n",
       "      <td>20</td>\n",
       "      <td>0</td>\n",
       "      <td>dataset_area_data.csv</td>\n",
       "      <td>plot_type_bar</td>\n",
       "    </tr>\n",
       "  </tbody>\n",
       "</table>\n",
       "<p>3240 rows × 5 columns</p>\n",
       "</div>"
      ],
      "text/plain": [
       "         question_type  omit_count  correct_count  \\\n",
       "0       Retrieve Value          20              0   \n",
       "1       Retrieve Value           0             20   \n",
       "2       Retrieve Value           0             20   \n",
       "3       Retrieve Value           0             20   \n",
       "4       Retrieve Value           0             20   \n",
       "...                ...         ...            ...   \n",
       "3235  Make Comparisons          20              0   \n",
       "3236  Make Comparisons           0              3   \n",
       "3237  Make Comparisons          19              0   \n",
       "3238  Make Comparisons           1              5   \n",
       "3239  Make Comparisons          20              0   \n",
       "\n",
       "                   original_dataset       plot_type  \n",
       "0     dataset_stacked_area_data.csv  plot_type_line  \n",
       "1     dataset_stacked_area_data.csv  plot_type_line  \n",
       "2     dataset_stacked_area_data.csv  plot_type_line  \n",
       "3     dataset_stacked_area_data.csv  plot_type_line  \n",
       "4     dataset_stacked_area_data.csv  plot_type_line  \n",
       "...                             ...             ...  \n",
       "3235          dataset_area_data.csv   plot_type_bar  \n",
       "3236          dataset_area_data.csv   plot_type_bar  \n",
       "3237          dataset_area_data.csv   plot_type_bar  \n",
       "3238          dataset_area_data.csv   plot_type_bar  \n",
       "3239          dataset_area_data.csv   plot_type_bar  \n",
       "\n",
       "[3240 rows x 5 columns]"
      ]
     },
     "execution_count": 50,
     "metadata": {},
     "output_type": "execute_result"
    }
   ],
   "source": [
    "df3"
   ]
  },
  {
   "cell_type": "code",
   "execution_count": 63,
   "metadata": {},
   "outputs": [],
   "source": [
    "df3.to_excel(\"basic_plot_comparision.xlsx\")"
   ]
  },
  {
   "cell_type": "markdown",
   "metadata": {},
   "source": [
    "lets try to get some more stats"
   ]
  },
  {
   "cell_type": "code",
   "execution_count": 73,
   "metadata": {},
   "outputs": [],
   "source": [
    "result = df3.groupby(\"plot_type\").agg(\n",
    "    prop_20=(\"omit_count\", lambda x: (x == 20).sum() / len(x)),\n",
    "    prop_0=(\"omit_count\", lambda x: (x == 0).sum() / len(x))\n",
    ").reset_index()"
   ]
  },
  {
   "cell_type": "code",
   "execution_count": 74,
   "metadata": {},
   "outputs": [],
   "source": [
    "result.to_excel(\"percentage_omit.xlsx\")"
   ]
  },
  {
   "cell_type": "code",
   "execution_count": 69,
   "metadata": {},
   "outputs": [],
   "source": [
    "result2 = df3.groupby([\"plot_type\", \"correct_count\"]).size().unstack(fill_value=0)"
   ]
  },
  {
   "cell_type": "code",
   "execution_count": 71,
   "metadata": {},
   "outputs": [],
   "source": [
    "result2.to_excel(\"size_Acc.xlsx\")"
   ]
  },
  {
   "cell_type": "markdown",
   "metadata": {},
   "source": [
    "this here will be some statistical tests"
   ]
  },
  {
   "cell_type": "code",
   "execution_count": null,
   "metadata": {},
   "outputs": [],
   "source": [
    "plot_types = list(df3[\"plot_type\"].unique())\n",
    "list_of_dfs = []\n",
    "for i in plot_types:\n",
    "    df = df3[df3[\"plot_type\"] == i]\n",
    "    list_of_dfs.append(df)\n",
    "\n",
    "line_df = list_of_dfs[0]\n",
    "stacked_bar_100 = list_of_dfs[1]\n",
    "stacked_bar = list_of_dfs[2]\n",
    "scatter= list_of_dfs[3]\n",
    "bar = list_of_dfs[4]\n",
    "pie = list_of_dfs[5]\n",
    "hist = list_of_dfs[6]\n",
    "\n"
   ]
  },
  {
   "cell_type": "code",
   "execution_count": 56,
   "metadata": {},
   "outputs": [],
   "source": [
    "#get the correct counts for each\n",
    "line_df_cc = line_df[\"correct_count\"]\n",
    "stacked_bar_100_cc = stacked_bar_100[\"correct_count\"]\n",
    "stacked_bar_cc= stacked_bar[\"correct_count\"]\n",
    "scatter_cc = scatter[\"correct_count\"]\n",
    "bar_cc = bar[\"correct_count\"]\n",
    "pie_cc = pie[\"correct_count\"]\n",
    "hist_cc = hist[\"correct_count\"]"
   ]
  },
  {
   "cell_type": "code",
   "execution_count": 57,
   "metadata": {},
   "outputs": [
    {
     "name": "stdout",
     "output_type": "stream",
     "text": [
      "H-statistic: 394.519, P-value: 0.000\n"
     ]
    }
   ],
   "source": [
    "# data is by no means normally distributed so no ANOVA, lets see if any of them distance themselves significantly\n",
    "# Kruskal-Wallis test (non-parametric alternative)\n",
    "\n",
    "import scipy.stats as stats\n",
    "h_stat, p_value = stats.kruskal(line_df_cc, pie_cc, bar_cc, stacked_bar_100_cc, stacked_bar_cc, scatter_cc, hist_cc)\n",
    "\n",
    "print(f\"H-statistic: {h_stat:.3f}, P-value: {p_value:.3f}\")\n"
   ]
  },
  {
   "cell_type": "markdown",
   "metadata": {},
   "source": [
    "at least one plot type is significantly different than the others!"
   ]
  },
  {
   "cell_type": "code",
   "execution_count": null,
   "metadata": {},
   "outputs": [],
   "source": [
    "pip install scikit-posthocs"
   ]
  },
  {
   "cell_type": "code",
   "execution_count": 59,
   "metadata": {},
   "outputs": [
    {
     "name": "stdout",
     "output_type": "stream",
     "text": [
      "              1             2             3             4             5  \\\n",
      "1  1.000000e+00  6.612839e-20  1.000000e+00  1.197879e-15  3.479146e-25   \n",
      "2  6.612839e-20  1.000000e+00  2.152975e-16  9.586579e-45  2.670741e-54   \n",
      "3  1.000000e+00  2.152975e-16  1.000000e+00  3.903802e-22  6.401736e-34   \n",
      "4  1.197879e-15  9.586579e-45  3.903802e-22  1.000000e+00  1.000000e+00   \n",
      "5  3.479146e-25  2.670741e-54  6.401736e-34  1.000000e+00  1.000000e+00   \n",
      "6  1.000000e+00  4.446366e-19  1.000000e+00  4.090778e-21  2.023686e-33   \n",
      "7  1.000000e+00  1.628915e-12  1.000000e+00  4.285668e-12  5.100025e-18   \n",
      "\n",
      "              6             7  \n",
      "1  1.000000e+00  1.000000e+00  \n",
      "2  4.446366e-19  1.628915e-12  \n",
      "3  1.000000e+00  1.000000e+00  \n",
      "4  4.090778e-21  4.285668e-12  \n",
      "5  2.023686e-33  5.100025e-18  \n",
      "6  1.000000e+00  1.000000e+00  \n",
      "7  1.000000e+00  1.000000e+00  \n"
     ]
    }
   ],
   "source": [
    "import scikit_posthocs as sp\n",
    "import numpy as np\n",
    "\n",
    "# Combine data\n",
    "data = [line_df_cc, pie_cc, bar_cc, stacked_bar_100_cc, stacked_bar_cc, scatter_cc, hist_cc]\n",
    "\n",
    "# Dunn's test with Bonferroni correction for multiple comparisons\n",
    "dunn_results = sp.posthoc_dunn(data, p_adjust='bonferroni')\n",
    "\n",
    "# Print results\n",
    "print(dunn_results)\n"
   ]
  },
  {
   "cell_type": "code",
   "execution_count": 18,
   "metadata": {},
   "outputs": [
    {
     "data": {
      "image/png": "[encoded data removed]",
      "text/plain": [
       "<Figure size 800x600 with 2 Axes>"
      ]
     },
     "metadata": {},
     "output_type": "display_data"
    }
   ],
   "source": [
    "import numpy as np\n",
    "import seaborn as sns\n",
    "import matplotlib.pyplot as plt\n",
    "import pandas as pd\n",
    "\n",
    "# Your pairwise p-value matrix\n",
    "p_values = np.array([\n",
    "    [1.000000e+00, 6.612839e-20, 1.000000e+00, 1.197879e-15, 3.479146e-25, 1.000000e+00, 1.000000e+00],\n",
    "    [6.612839e-20, 1.000000e+00, 2.152975e-16, 9.586579e-45, 2.670741e-54, 4.446366e-19, 1.628915e-12],\n",
    "    [1.000000e+00, 2.152975e-16, 1.000000e+00, 3.903802e-22, 6.401736e-34, 1.000000e+00, 1.000000e+00],\n",
    "    [1.197879e-15, 9.586579e-45, 3.903802e-22, 1.000000e+00, 1.000000e+00, 4.090778e-21, 4.285668e-12],\n",
    "    [3.479146e-25, 2.670741e-54, 6.401736e-34, 1.000000e+00, 1.000000e+00, 2.023686e-33, 5.100025e-18],\n",
    "    [1.000000e+00, 4.446366e-19, 1.000000e+00, 4.090778e-21, 2.023686e-33, 1.000000e+00, 1.000000e+00],\n",
    "    [1.000000e+00, 1.628915e-12, 1.000000e+00, 4.285668e-12, 5.100025e-18, 1.000000e+00, 1.000000e+00]\n",
    "])\n",
    "\n",
    "# Convert to DataFrame for better labeling\n",
    "groups = [\"Line\", \"Pie\", \"Bar\", \"% Stacked Bar\", \"Stacked Bar\", \"Scatter\", \"Histogram\"]\n",
    "df_p_values = pd.DataFrame(p_values, index=groups, columns=groups)\n",
    "\n",
    "# Define categories\n",
    "threshold = 0.01\n",
    "p_value_categories = df_p_values.copy()\n",
    "p_value_categories[df_p_values < threshold] = 0  # Significant (<1%)\n",
    "p_value_categories[df_p_values >= threshold] = 1  # Not Significant\n",
    "\n",
    "# Define a pastel color palette\n",
    "colors = [\"#A8D5BA\", \"#F2C6C2\"]  # Soft green for significant, soft red for not significant\n",
    "cmap = sns.color_palette(colors, as_cmap=True)\n",
    "\n",
    "# Create heatmap\n",
    "plt.figure(figsize=(8, 6))\n",
    "ax = sns.heatmap(p_value_categories, annot=False, cmap=cmap, cbar=True, \n",
    "                 linewidths=0.8, linecolor=\"white\", mask=np.triu(np.ones_like(df_p_values, dtype=bool)),\n",
    "                 cbar_kws={\"ticks\": [0, 1], \"label\": \"Significance Level\"})\n",
    "\n",
    "# Adjust colorbar labels\n",
    "colorbar = ax.collections[0].colorbar\n",
    "colorbar.set_ticklabels([\"Significant (<1%)\", \"Not Significant\"])\n",
    "\n",
    "plt.title(\"Pairwise P-values by Plot Type\")\n",
    "plt.savefig(\"statistical_test.png\")\n",
    "plt.show()\n"
   ]
  },
  {
   "cell_type": "code",
   "execution_count": 22,
   "metadata": {},
   "outputs": [
    {
     "data": {
      "image/png": "[encoded data removed]",
      "text/plain": [
       "<Figure size 800x600 with 1 Axes>"
      ]
     },
     "metadata": {},
     "output_type": "display_data"
    }
   ],
   "source": [
    "import numpy as np\n",
    "import seaborn as sns\n",
    "import matplotlib.pyplot as plt\n",
    "import pandas as pd\n",
    "import matplotlib.patches as mpatches\n",
    "\n",
    "# Your pairwise p-value matrix\n",
    "p_values = np.array([\n",
    "    [1.000000e+00, 6.612839e-20, 1.000000e+00, 1.197879e-15, 3.479146e-25, 1.000000e+00, 1.000000e+00],\n",
    "    [6.612839e-20, 1.000000e+00, 2.152975e-16, 9.586579e-45, 2.670741e-54, 4.446366e-19, 1.628915e-12],\n",
    "    [1.000000e+00, 2.152975e-16, 1.000000e+00, 3.903802e-22, 6.401736e-34, 1.000000e+00, 1.000000e+00],\n",
    "    [1.197879e-15, 9.586579e-45, 3.903802e-22, 1.000000e+00, 1.000000e+00, 4.090778e-21, 4.285668e-12],\n",
    "    [3.479146e-25, 2.670741e-54, 6.401736e-34, 1.000000e+00, 1.000000e+00, 2.023686e-33, 5.100025e-18],\n",
    "    [1.000000e+00, 4.446366e-19, 1.000000e+00, 4.090778e-21, 2.023686e-33, 1.000000e+00, 1.000000e+00],\n",
    "    [1.000000e+00, 1.628915e-12, 1.000000e+00, 4.285668e-12, 5.100025e-18, 1.000000e+00, 1.000000e+00]\n",
    "])\n",
    "\n",
    "# Convert to DataFrame for better labeling\n",
    "groups = [\"Line\", \"Pie\", \"Bar\", \"% Stacked Bar\", \"Stacked Bar\", \"Scatter\", \"Histogram\"]\n",
    "df_p_values = pd.DataFrame(p_values, index=groups, columns=groups)\n",
    "\n",
    "# Define categories\n",
    "threshold = 0.01\n",
    "p_value_categories = df_p_values.copy()\n",
    "p_value_categories[df_p_values < threshold] = 0  # Significant (<1%)\n",
    "p_value_categories[df_p_values >= threshold] = 1  # Not Significant\n",
    "\n",
    "# Define a pastel color palette\n",
    "colors = [\"#A8D5BA\", \"#F2C6C2\"]  # Soft green for significant, soft red for not significant\n",
    "cmap = sns.color_palette(colors, as_cmap=True)\n",
    "\n",
    "# Create heatmap\n",
    "plt.figure(figsize=(8, 6))\n",
    "ax = sns.heatmap(p_value_categories, annot=False, cmap=cmap, cbar=False, \n",
    "                 linewidths=0.8, linecolor=\"white\", mask=np.triu(np.ones_like(df_p_values, dtype=bool)))\n",
    "\n",
    "# Create custom legend with two squares\n",
    "legend_patches = [\n",
    "    mpatches.Patch(color=\"#A8D5BA\", label=\"Significant (<1%)\"),  # Green\n",
    "    mpatches.Patch(color=\"#F2C6C2\", label=\"Not Significant\")      # Red\n",
    "]\n",
    "plt.legend(handles=legend_patches, loc=\"upper right\", title=\"Significance Level\", frameon=False)\n",
    "\n",
    "plt.title(\"Pairwise P-values by Plot Type\")\n",
    "plt.savefig(\"statistical_test.svg\")\n",
    "plt.show()\n"
   ]
  },
  {
   "cell_type": "markdown",
   "metadata": {},
   "source": [
    "this direction goes towards transformational analysis"
   ]
  },
  {
   "cell_type": "code",
   "execution_count": 26,
   "metadata": {},
   "outputs": [],
   "source": [
    "df4 = df3.groupby(['original_dataset', 'plot_type'])[['omit_count', 'correct_count']].mean().reset_index()"
   ]
  },
  {
   "cell_type": "code",
   "execution_count": 32,
   "metadata": {},
   "outputs": [],
   "source": [
    "keys = list(set(list(df4[\"original_dataset\"].values)))"
   ]
  },
  {
   "cell_type": "code",
   "execution_count": 33,
   "metadata": {},
   "outputs": [
    {
     "data": {
      "text/plain": [
       "['dataset_bar_data.csv',\n",
       " 'dataset_100_stacked_bar_data.csv',\n",
       " 'dataset_scatterplot_data.csv',\n",
       " 'dataset_line_data.csv',\n",
       " 'dataset_area_data.csv',\n",
       " 'dataset_stacked_bar_data.csv',\n",
       " 'dataset_pie_data.csv',\n",
       " 'dataset_histogram_data.csv',\n",
       " 'dataset_stacked_area_data.csv']"
      ]
     },
     "execution_count": 33,
     "metadata": {},
     "output_type": "execute_result"
    }
   ],
   "source": [
    "keys"
   ]
  },
  {
   "cell_type": "code",
   "execution_count": 34,
   "metadata": {},
   "outputs": [],
   "source": [
    "given_values = [\"plot_type_bar\",\"plot_type_stacked_bar_100\", \"plot_type_scatterplot\", \"plot_type_line\", \"plot_type_line\", \"plot_type_stacked_bar\", \"plot_type_pie\", \"plot_type_hist\", \"plot_type_stacked_bar\"]"
   ]
  },
  {
   "cell_type": "code",
   "execution_count": 35,
   "metadata": {},
   "outputs": [],
   "source": [
    "# Create DataFrame from lists\n",
    "key_df = pd.DataFrame({'original_dataset': keys, 'original_plot_type': given_values})"
   ]
  },
  {
   "cell_type": "code",
   "execution_count": 49,
   "metadata": {},
   "outputs": [
    {
     "data": {
      "text/html": [
       "<div>\n",
       "<style scoped>\n",
       "    .dataframe tbody tr th:only-of-type {\n",
       "        vertical-align: middle;\n",
       "    }\n",
       "\n",
       "    .dataframe tbody tr th {\n",
       "        vertical-align: top;\n",
       "    }\n",
       "\n",
       "    .dataframe thead th {\n",
       "        text-align: right;\n",
       "    }\n",
       "</style>\n",
       "<table border=\"1\" class=\"dataframe\">\n",
       "  <thead>\n",
       "    <tr style=\"text-align: right;\">\n",
       "      <th></th>\n",
       "      <th>original_dataset</th>\n",
       "      <th>original_plot_type</th>\n",
       "    </tr>\n",
       "  </thead>\n",
       "  <tbody>\n",
       "    <tr>\n",
       "      <th>0</th>\n",
       "      <td>dataset_bar_data.csv</td>\n",
       "      <td>plot_type_bar</td>\n",
       "    </tr>\n",
       "    <tr>\n",
       "      <th>1</th>\n",
       "      <td>dataset_100_stacked_bar_data.csv</td>\n",
       "      <td>plot_type_stacked_bar_100</td>\n",
       "    </tr>\n",
       "    <tr>\n",
       "      <th>2</th>\n",
       "      <td>dataset_scatterplot_data.csv</td>\n",
       "      <td>plot_type_scatterplot</td>\n",
       "    </tr>\n",
       "    <tr>\n",
       "      <th>3</th>\n",
       "      <td>dataset_line_data.csv</td>\n",
       "      <td>plot_type_line</td>\n",
       "    </tr>\n",
       "    <tr>\n",
       "      <th>4</th>\n",
       "      <td>dataset_area_data.csv</td>\n",
       "      <td>plot_type_line</td>\n",
       "    </tr>\n",
       "    <tr>\n",
       "      <th>5</th>\n",
       "      <td>dataset_stacked_bar_data.csv</td>\n",
       "      <td>plot_type_stacked_bar</td>\n",
       "    </tr>\n",
       "    <tr>\n",
       "      <th>6</th>\n",
       "      <td>dataset_pie_data.csv</td>\n",
       "      <td>plot_type_pie</td>\n",
       "    </tr>\n",
       "    <tr>\n",
       "      <th>7</th>\n",
       "      <td>dataset_histogram_data.csv</td>\n",
       "      <td>plot_type_hist</td>\n",
       "    </tr>\n",
       "    <tr>\n",
       "      <th>8</th>\n",
       "      <td>dataset_stacked_area_data.csv</td>\n",
       "      <td>plot_type_stacked_bar</td>\n",
       "    </tr>\n",
       "  </tbody>\n",
       "</table>\n",
       "</div>"
      ],
      "text/plain": [
       "                   original_dataset         original_plot_type\n",
       "0              dataset_bar_data.csv              plot_type_bar\n",
       "1  dataset_100_stacked_bar_data.csv  plot_type_stacked_bar_100\n",
       "2      dataset_scatterplot_data.csv      plot_type_scatterplot\n",
       "3             dataset_line_data.csv             plot_type_line\n",
       "4             dataset_area_data.csv             plot_type_line\n",
       "5      dataset_stacked_bar_data.csv      plot_type_stacked_bar\n",
       "6              dataset_pie_data.csv              plot_type_pie\n",
       "7        dataset_histogram_data.csv             plot_type_hist\n",
       "8     dataset_stacked_area_data.csv      plot_type_stacked_bar"
      ]
     },
     "execution_count": 49,
     "metadata": {},
     "output_type": "execute_result"
    }
   ],
   "source": [
    "key_df"
   ]
  },
  {
   "cell_type": "code",
   "execution_count": 38,
   "metadata": {},
   "outputs": [],
   "source": [
    "df_for_fancy_viz = key_df.merge(df4, on=\"original_dataset\", how='left')\n",
    "df_for_fancy_viz2 = df_for_fancy_viz.groupby(['original_plot_type', 'plot_type'])[['omit_count', 'correct_count']].mean().reset_index()"
   ]
  },
  {
   "cell_type": "code",
   "execution_count": 48,
   "metadata": {},
   "outputs": [],
   "source": [
    "def clean_plot_type_column(df, column_name):\n",
    "    df[column_name] = df[column_name].str.replace(\"plot_type_\", \"\", regex=False).str.capitalize()\n",
    "    return df"
   ]
  },
  {
   "cell_type": "code",
   "execution_count": 45,
   "metadata": {},
   "outputs": [],
   "source": [
    "df5 = clean_plot_type_column(df_for_fancy_viz2, \"original_plot_type\")\n",
    "df6 = clean_plot_type_column(df5, \"plot_type\")"
   ]
  },
  {
   "cell_type": "code",
   "execution_count": 47,
   "metadata": {},
   "outputs": [],
   "source": [
    "df6.to_excel(\"transf5.xlsx\")"
   ]
  }
 ],
 "metadata": {
  "kernelspec": {
   "display_name": "Python 3",
   "language": "python",
   "name": "python3"
  },
  "language_info": {
   "codemirror_mode": {
    "name": "ipython",
    "version": 3
   },
   "file_extension": ".py",
   "mimetype": "text/x-python",
   "name": "python",
   "nbconvert_exporter": "python",
   "pygments_lexer": "ipython3",
   "version": "3.11.5"
  }
 },
 "nbformat": 4,
 "nbformat_minor": 2
}
