{
 "cells": [
  {
   "cell_type": "code",
   "execution_count": 1,
   "id": "74ca2c21",
   "metadata": {},
   "outputs": [
    {
     "name": "stdout",
     "output_type": "stream",
     "text": [
      "✅ Renamed: Q1_img6_Tomato.png → retrieve_value_img6_Tomato.png\n",
      "✅ Renamed: Q1_img4_Lightpink.png → retrieve_value_img4_Lightpink.png\n",
      "✅ Renamed: Q1_img9_Chartreuse.png → retrieve_value_img9_Chartreuse.png\n",
      "✅ Renamed: Q1_img3_Lightgray.png → retrieve_value_img3_Lightgray.png\n",
      "✅ Renamed: Q1_img7_Black.png → retrieve_value_img7_Black.png\n",
      "✅ Renamed: Q1_img8_Mediumvioletred.png → retrieve_value_img8_Mediumvioletred.png\n",
      "✅ Renamed: Q1_img5_Navy.png → retrieve_value_img5_Navy.png\n",
      "✅ Renamed: Q1_img10_Burlywood.png → retrieve_value_img10_Burlywood.png\n"
     ]
    }
   ],
   "source": [
    "import os\n",
    "\n",
    "# Set your image folder path\n",
    "folder_path = \"/Users/ramihuunguyen/Documents/PhD/Visualization_Literacy/Visualization_Literacy/rami_retrieve_value/retrieve_value\"\n",
    "\n",
    "# Loop through all files\n",
    "for filename in os.listdir(folder_path):\n",
    "    if filename.startswith(\"Q1_\") and filename.endswith(\".png\"):\n",
    "        new_filename = filename.replace(\"Q1_\", \"retrieve_value_\", 1)\n",
    "        old_path = os.path.join(folder_path, filename)\n",
    "        new_path = os.path.join(folder_path, new_filename)\n",
    "        os.rename(old_path, new_path)\n",
    "        print(f\"✅ Renamed: {filename} → {new_filename}\")\n"
   ]
  }
 ],
 "metadata": {
  "kernelspec": {
   "display_name": "visualization",
   "language": "python",
   "name": "python3"
  },
  "language_info": {
   "codemirror_mode": {
    "name": "ipython",
    "version": 3
   },
   "file_extension": ".py",
   "mimetype": "text/x-python",
   "name": "python",
   "nbconvert_exporter": "python",
   "pygments_lexer": "ipython3",
   "version": "3.11.13"
  }
 },
 "nbformat": 4,
 "nbformat_minor": 5
}
