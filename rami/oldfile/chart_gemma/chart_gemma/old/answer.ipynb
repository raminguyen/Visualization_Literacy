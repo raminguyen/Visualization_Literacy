{
 "cells": [
  {
   "cell_type": "markdown",
   "id": "dca26503",
   "metadata": {},
   "source": [
    "### Step_1: Save Model Weight"
   ]
  },
  {
   "cell_type": "code",
   "execution_count": 7,
   "id": "ac9ff37c",
   "metadata": {},
   "outputs": [
    {
     "data": {
      "text/plain": [
       "40"
      ]
     },
     "execution_count": 7,
     "metadata": {},
     "output_type": "execute_result"
    }
   ],
   "source": [
    "import pandas as pd\n",
    "\n",
    "df = pd.read_csv(\"chartgemma_q1_runs_output_4times.csv\")\n",
    "\n",
    "len(df)\n"
   ]
  },
  {
   "cell_type": "code",
   "execution_count": 8,
   "id": "cb0f7dec",
   "metadata": {},
   "outputs": [
    {
     "data": {
      "text/html": [
       "<div>\n",
       "<style scoped>\n",
       "    .dataframe tbody tr th:only-of-type {\n",
       "        vertical-align: middle;\n",
       "    }\n",
       "\n",
       "    .dataframe tbody tr th {\n",
       "        vertical-align: top;\n",
       "    }\n",
       "\n",
       "    .dataframe thead th {\n",
       "        text-align: right;\n",
       "    }\n",
       "</style>\n",
       "<table border=\"1\" class=\"dataframe\">\n",
       "  <thead>\n",
       "    <tr style=\"text-align: right;\">\n",
       "      <th></th>\n",
       "      <th>0</th>\n",
       "    </tr>\n",
       "  </thead>\n",
       "  <tbody>\n",
       "    <tr>\n",
       "      <th>Index</th>\n",
       "      <td>Q1_img1_run1</td>\n",
       "    </tr>\n",
       "    <tr>\n",
       "      <th>Question Type</th>\n",
       "      <td>Make Comparisons</td>\n",
       "    </tr>\n",
       "    <tr>\n",
       "      <th>Question Description</th>\n",
       "      <td>Look at each month carefully. About how much did the price of a barrel of oil fall from April to September in 2015? Which option is correct $4, $15, $17, $45, Omit?</td>\n",
       "    </tr>\n",
       "    <tr>\n",
       "      <th>Prompt</th>\n",
       "      <td>&lt;image&gt; Look at each month carefully. About how much did the price of a barrel of oil fall from April to September in 2015? Which option is correct $4, $15, $17, $45, Omit?</td>\n",
       "    </tr>\n",
       "    <tr>\n",
       "      <th>Model Name</th>\n",
       "      <td>ChartGemma-2.92B</td>\n",
       "    </tr>\n",
       "    <tr>\n",
       "      <th>Chart Title</th>\n",
       "      <td>Monthly Oil Prices in 2015</td>\n",
       "    </tr>\n",
       "    <tr>\n",
       "      <th>Color</th>\n",
       "      <td>Burlywood</td>\n",
       "    </tr>\n",
       "    <tr>\n",
       "      <th>Image Path</th>\n",
       "      <td>/hpcstor6/scratch01/h/huuthanhvy.nguyen001/Visualization_Literacy/line_chart_dataset/grouped_by_type/Make_Comparisons/Q1_img10_Burlywood.png</td>\n",
       "    </tr>\n",
       "    <tr>\n",
       "      <th>Ground Truth</th>\n",
       "      <td>$15</td>\n",
       "    </tr>\n",
       "    <tr>\n",
       "      <th>Prediction</th>\n",
       "      <td>Look at each month carefully. About how much did the price of a barrel of oil fall from April to September in 2015? Which option is correct $4, $15, $17, $45, Omit?\\nThe price of a barrel of oil fell from April to September in 2015 by $4, $15, $17, and $45. The correct option is $15.</td>\n",
       "    </tr>\n",
       "    <tr>\n",
       "      <th>Answer Time</th>\n",
       "      <td>88.97</td>\n",
       "    </tr>\n",
       "  </tbody>\n",
       "</table>\n",
       "</div>"
      ],
      "text/plain": [
       "                                                                                                                                                                                                                                                                                                                  0\n",
       "Index                                                                                                                                                                                                                                                                                                  Q1_img1_run1\n",
       "Question Type                                                                                                                                                                                                                                                                                      Make Comparisons\n",
       "Question Description                                                                                                                           Look at each month carefully. About how much did the price of a barrel of oil fall from April to September in 2015? Which option is correct $4, $15, $17, $45, Omit?\n",
       "Prompt                                                                                                                                 <image> Look at each month carefully. About how much did the price of a barrel of oil fall from April to September in 2015? Which option is correct $4, $15, $17, $45, Omit?\n",
       "Model Name                                                                                                                                                                                                                                                                                         ChartGemma-2.92B\n",
       "Chart Title                                                                                                                                                                                                                                                                              Monthly Oil Prices in 2015\n",
       "Color                                                                                                                                                                                                                                                                                                     Burlywood\n",
       "Image Path                                                                                                                                                             /hpcstor6/scratch01/h/huuthanhvy.nguyen001/Visualization_Literacy/line_chart_dataset/grouped_by_type/Make_Comparisons/Q1_img10_Burlywood.png\n",
       "Ground Truth                                                                                                                                                                                                                                                                                                    $15\n",
       "Prediction             Look at each month carefully. About how much did the price of a barrel of oil fall from April to September in 2015? Which option is correct $4, $15, $17, $45, Omit?\\nThe price of a barrel of oil fell from April to September in 2015 by $4, $15, $17, and $45. The correct option is $15.\n",
       "Answer Time                                                                                                                                                                                                                                                                                                   88.97"
      ]
     },
     "execution_count": 8,
     "metadata": {},
     "output_type": "execute_result"
    }
   ],
   "source": [
    "pd.set_option('display.max_colwidth', 1000)\n",
    "\n",
    "df.head(1).T"
   ]
  },
  {
   "cell_type": "code",
   "execution_count": null,
   "id": "c38f8a3a",
   "metadata": {},
   "outputs": [],
   "source": []
  }
 ],
 "metadata": {
  "kernelspec": {
   "display_name": "visualization",
   "language": "python",
   "name": "python3"
  },
  "language_info": {
   "codemirror_mode": {
    "name": "ipython",
    "version": 3
   },
   "file_extension": ".py",
   "mimetype": "text/x-python",
   "name": "python",
   "nbconvert_exporter": "python",
   "pygments_lexer": "ipython3",
   "version": "undefined.undefined.undefined"
  }
 },
 "nbformat": 4,
 "nbformat_minor": 5
}
